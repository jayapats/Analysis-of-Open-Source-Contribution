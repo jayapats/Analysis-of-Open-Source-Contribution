{
 "cells": [
  {
   "cell_type": "markdown",
   "metadata": {},
   "source": [
    "# OSS Contributions\n",
    "# Code contributions Vs Non-code contributions\n",
    "\n",
    "Research Question1: How do we compare non-code contributors with code contributors?\n",
    "\\\n",
    "Research Question2: What is the frequency of code and non-code contributions in OSS projects over the past 5 years?\\\n",
    "Research Question3: How does gender have an effect on the type of contribution being made in OSS projects?"
   ]
  },
  {
   "cell_type": "code",
   "execution_count": 1,
   "metadata": {},
   "outputs": [],
   "source": [
    "userName = ''\n",
    "token = ''"
   ]
  },
  {
   "cell_type": "code",
   "execution_count": 2,
   "metadata": {},
   "outputs": [
    {
     "name": "stdout",
     "output_type": "stream",
     "text": [
      "Collecting git+https://github.com/EPICLab/miner-utils\n",
      "  Cloning https://github.com/EPICLab/miner-utils to c:\\users\\sweth\\appdata\\local\\temp\\pip-req-build-cszi15f9\n",
      "  Installing build dependencies: started\n",
      "  Installing build dependencies: finished with status 'done'\n",
      "  Getting requirements to build wheel: started\n",
      "  Getting requirements to build wheel: finished with status 'done'\n",
      "    Preparing wheel metadata: started\n",
      "    Preparing wheel metadata: finished with status 'done'\n",
      "Requirement already satisfied (use --upgrade to upgrade): MinerUtils==2.6.0 from git+https://github.com/EPICLab/miner-utils in c:\\programdata\\anaconda3\\lib\\site-packages\n",
      "Requirement already satisfied: bigjson in c:\\programdata\\anaconda3\\lib\\site-packages (from MinerUtils==2.6.0) (1.0.4)\n",
      "Requirement already satisfied: requests in c:\\programdata\\anaconda3\\lib\\site-packages (from MinerUtils==2.6.0) (2.24.0)\n",
      "Requirement already satisfied: certifi>=2017.4.17 in c:\\programdata\\anaconda3\\lib\\site-packages (from requests->MinerUtils==2.6.0) (2020.6.20)\n",
      "Requirement already satisfied: urllib3!=1.25.0,!=1.25.1,<1.26,>=1.21.1 in c:\\programdata\\anaconda3\\lib\\site-packages (from requests->MinerUtils==2.6.0) (1.25.9)\n",
      "Requirement already satisfied: chardet<4,>=3.0.2 in c:\\programdata\\anaconda3\\lib\\site-packages (from requests->MinerUtils==2.6.0) (3.0.4)\n",
      "Requirement already satisfied: idna<3,>=2.5 in c:\\programdata\\anaconda3\\lib\\site-packages (from requests->MinerUtils==2.6.0) (2.10)\n",
      "Building wheels for collected packages: MinerUtils\n",
      "  Building wheel for MinerUtils (PEP 517): started\n",
      "  Building wheel for MinerUtils (PEP 517): finished with status 'done'\n",
      "  Created wheel for MinerUtils: filename=MinerUtils-2.6.0-py3-none-any.whl size=7874 sha256=49aaf74035c3a3f286a9511a79e1704704f17a58ce543cf8404e361be1215cfb\n"
     ]
    },
    {
     "name": "stderr",
     "output_type": "stream",
     "text": [
      "WARNING: You are using pip version 20.2.3; however, version 20.2.4 is available.\n",
      "You should consider upgrading via the 'c:\\programdata\\anaconda3\\python.exe -m pip install --upgrade pip' command.\n"
     ]
    },
    {
     "name": "stdout",
     "output_type": "stream",
     "text": [
      "  Stored in directory: C:\\Users\\sweth\\AppData\\Local\\Temp\\pip-ephem-wheel-cache-upk_e0ct\\wheels\\fe\\91\\28\\5eba084a42706e9e4d24f442a0c04ff0eca7d51d53d1cc46d4\n",
      "Successfully built MinerUtils\n",
      "Requirement already satisfied: gitpython in c:\\programdata\\anaconda3\\lib\\site-packages (3.1.9)\n",
      "Requirement already satisfied: gitdb<5,>=4.0.1 in c:\\programdata\\anaconda3\\lib\\site-packages (from gitpython) (4.0.5)\n",
      "Requirement already satisfied: smmap<4,>=3.0.1 in c:\\programdata\\anaconda3\\lib\\site-packages (from gitdb<5,>=4.0.1->gitpython) (3.0.4)\n"
     ]
    },
    {
     "name": "stderr",
     "output_type": "stream",
     "text": [
      "WARNING: You are using pip version 20.2.3; however, version 20.2.4 is available.\n",
      "You should consider upgrading via the 'c:\\programdata\\anaconda3\\python.exe -m pip install --upgrade pip' command.\n",
      "WARNING: You are using pip version 20.2.3; however, version 20.2.4 is available.\n",
      "You should consider upgrading via the 'c:\\programdata\\anaconda3\\python.exe -m pip install --upgrade pip' command.\n"
     ]
    },
    {
     "name": "stdout",
     "output_type": "stream",
     "text": [
      "Requirement already satisfied: pandas in c:\\programdata\\anaconda3\\lib\\site-packages (1.0.5)\n",
      "Requirement already satisfied: pytz>=2017.2 in c:\\programdata\\anaconda3\\lib\\site-packages (from pandas) (2020.1)\n",
      "Requirement already satisfied: numpy>=1.13.3 in c:\\programdata\\anaconda3\\lib\\site-packages (from pandas) (1.18.5)\n",
      "Requirement already satisfied: python-dateutil>=2.6.1 in c:\\programdata\\anaconda3\\lib\\site-packages (from pandas) (2.8.1)\n",
      "Requirement already satisfied: six>=1.5 in c:\\programdata\\anaconda3\\lib\\site-packages (from python-dateutil>=2.6.1->pandas) (1.15.0)\n",
      "Requirement already satisfied: numpy in c:\\programdata\\anaconda3\\lib\\site-packages (1.18.5)\n"
     ]
    },
    {
     "name": "stderr",
     "output_type": "stream",
     "text": [
      "WARNING: You are using pip version 20.2.3; however, version 20.2.4 is available.\n",
      "You should consider upgrading via the 'c:\\programdata\\anaconda3\\python.exe -m pip install --upgrade pip' command.\n"
     ]
    },
    {
     "name": "stdout",
     "output_type": "stream",
     "text": [
      "Requirement already satisfied: matplotlib in c:\\programdata\\anaconda3\\lib\\site-packages (3.2.2)\n",
      "Requirement already satisfied: pyparsing!=2.0.4,!=2.1.2,!=2.1.6,>=2.0.1 in c:\\programdata\\anaconda3\\lib\\site-packages (from matplotlib) (2.4.7)\n",
      "Requirement already satisfied: cycler>=0.10 in c:\\programdata\\anaconda3\\lib\\site-packages (from matplotlib) (0.10.0)\n",
      "Requirement already satisfied: python-dateutil>=2.1 in c:\\programdata\\anaconda3\\lib\\site-packages (from matplotlib) (2.8.1)\n",
      "Requirement already satisfied: numpy>=1.11 in c:\\programdata\\anaconda3\\lib\\site-packages (from matplotlib) (1.18.5)"
     ]
    },
    {
     "name": "stderr",
     "output_type": "stream",
     "text": [
      "WARNING: You are using pip version 20.2.3; however, version 20.2.4 is available.\n",
      "You should consider upgrading via the 'c:\\programdata\\anaconda3\\python.exe -m pip install --upgrade pip' command.\n"
     ]
    },
    {
     "name": "stdout",
     "output_type": "stream",
     "text": [
      "\n",
      "Requirement already satisfied: kiwisolver>=1.0.1 in c:\\programdata\\anaconda3\\lib\\site-packages (from matplotlib) (1.2.0)\n",
      "Requirement already satisfied: six in c:\\programdata\\anaconda3\\lib\\site-packages (from cycler>=0.10->matplotlib) (1.15.0)\n"
     ]
    },
    {
     "name": "stderr",
     "output_type": "stream",
     "text": [
      "WARNING: You are using pip version 20.2.3; however, version 20.2.4 is available.\n",
      "You should consider upgrading via the 'c:\\programdata\\anaconda3\\python.exe -m pip install --upgrade pip' command.\n"
     ]
    },
    {
     "name": "stdout",
     "output_type": "stream",
     "text": [
      "Requirement already satisfied: stop-words in c:\\programdata\\anaconda3\\lib\\site-packages (2018.7.23)\n"
     ]
    }
   ],
   "source": [
    "# install any missing dependencies (only needed if you haven't installed these already during tutorials)\n",
    "!pip install \"git+https://github.com/EPICLab/miner-utils\"\n",
    "!pip install gitpython\n",
    "!pip install \"pandas\"\n",
    "!pip install \"numpy\"\n",
    "!pip install \"matplotlib\"\n",
    "!pip install \"stop-words\"\n",
    "import pandas"
   ]
  },
  {
   "cell_type": "code",
   "execution_count": 4,
   "metadata": {},
   "outputs": [],
   "source": [
    "# setup environment (import any needed dependencies)\n",
    "from minerutils import GitHub\n",
    "gh = GitHub(userName, token)"
   ]
  },
  {
   "cell_type": "markdown",
   "metadata": {},
   "source": [
    "## Part 1: `bitcoin/bitcoin` project\n",
    "\n",
    "For this assignment, we will investigate the [bitcoin/bitcoin](https://github.com/bitcoin/bitcoin) project."
   ]
  },
  {
   "cell_type": "markdown",
   "metadata": {},
   "source": [
    "# RQ-1: How do we compare non-code contributors with code contributors?\n",
    "1.Getting count of issue raised per contributor"
   ]
  },
  {
   "cell_type": "code",
   "execution_count": 17,
   "metadata": {},
   "outputs": [
    {
     "name": "stdout",
     "output_type": "stream",
     "text": [
      "2121\n"
     ]
    }
   ],
   "source": [
    "all_issues = gh.get(\"/repos/airbnb/javascript/issues\", params={\"since\": \"2015-01-01T:00:00:00Z\", \"state\":\"all\"})\n",
    "gh.writeData(\"airbnbIssues.json\", all_issues)\n",
    "all_issues = pandas.DataFrame(all_issues)\n",
    "print(len(all_issues))"
   ]
  },
  {
   "cell_type": "code",
   "execution_count": 18,
   "metadata": {},
   "outputs": [
    {
     "name": "stdout",
     "output_type": "stream",
     "text": [
      "987\n",
      "2121\n"
     ]
    }
   ],
   "source": [
    "IssuesPR = pandas.DataFrame(all_issues) #Has all the issues & PR's\n",
    "# Dropping PR's from the issues to get the issue count alone\n",
    "issues = pandas.DataFrame()\n",
    "for index,row in all_issues.iterrows():\n",
    "    if pandas.notnull(row[\"pull_request\"]):\n",
    "        issues=all_issues.drop(index, inplace=True)\n",
    "print(len(all_issues))#Data after droping PR's,this now has only issues\n",
    "print(len(IssuesPR))#Has all the issues & PR's"
   ]
  },
  {
   "cell_type": "code",
   "execution_count": 19,
   "metadata": {},
   "outputs": [
    {
     "data": {
      "text/plain": [
       "url                         https://api.github.com/repos/airbnb/javascript...\n",
       "repository_url                 https://api.github.com/repos/airbnb/javascript\n",
       "labels_url                  https://api.github.com/repos/airbnb/javascript...\n",
       "comments_url                https://api.github.com/repos/airbnb/javascript...\n",
       "events_url                  https://api.github.com/repos/airbnb/javascript...\n",
       "html_url                     https://github.com/airbnb/javascript/issues/2092\n",
       "id                                                                  495932807\n",
       "node_id                                              MDU6SXNzdWU0OTU5MzI4MDc=\n",
       "number                                                                   2092\n",
       "title                                                    Undescore param name\n",
       "user                        {'login': 'alexalannunes', 'id': 16847836, 'no...\n",
       "labels                                                                     []\n",
       "state                                                                  closed\n",
       "locked                                                                  False\n",
       "assignee                                                                 None\n",
       "assignees                                                                  []\n",
       "milestone                                                                None\n",
       "comments                                                                    3\n",
       "created_at                                               2019-09-19T17:30:30Z\n",
       "updated_at                                               2019-09-19T17:32:41Z\n",
       "closed_at                                                2019-09-19T17:31:37Z\n",
       "author_association                                                       NONE\n",
       "active_lock_reason                                                       None\n",
       "body                        Why colors of the param names on a function ch...\n",
       "performed_via_github_app                                                 None\n",
       "pull_request                                                              NaN\n",
       "Name: 216, dtype: object"
      ]
     },
     "execution_count": 19,
     "metadata": {},
     "output_type": "execute_result"
    }
   ],
   "source": [
    "all_issues.iloc[120]"
   ]
  },
  {
   "cell_type": "code",
   "execution_count": 20,
   "metadata": {},
   "outputs": [
    {
     "name": "stdout",
     "output_type": "stream",
     "text": [
      "781\n"
     ]
    },
    {
     "data": {
      "text/html": [
       "<div>\n",
       "<style scoped>\n",
       "    .dataframe tbody tr th:only-of-type {\n",
       "        vertical-align: middle;\n",
       "    }\n",
       "\n",
       "    .dataframe tbody tr th {\n",
       "        vertical-align: top;\n",
       "    }\n",
       "\n",
       "    .dataframe thead th {\n",
       "        text-align: right;\n",
       "    }\n",
       "</style>\n",
       "<table border=\"1\" class=\"dataframe\">\n",
       "  <thead>\n",
       "    <tr style=\"text-align: right;\">\n",
       "      <th></th>\n",
       "      <th>IssueCount</th>\n",
       "    </tr>\n",
       "    <tr>\n",
       "      <th>names</th>\n",
       "      <th></th>\n",
       "    </tr>\n",
       "  </thead>\n",
       "  <tbody>\n",
       "    <tr>\n",
       "      <th>felixsanz</th>\n",
       "      <td>11</td>\n",
       "    </tr>\n",
       "    <tr>\n",
       "      <th>ghost</th>\n",
       "      <td>11</td>\n",
       "    </tr>\n",
       "    <tr>\n",
       "      <th>erights</th>\n",
       "      <td>11</td>\n",
       "    </tr>\n",
       "    <tr>\n",
       "      <th>architectcodes</th>\n",
       "      <td>8</td>\n",
       "    </tr>\n",
       "    <tr>\n",
       "      <th>olalonde</th>\n",
       "      <td>8</td>\n",
       "    </tr>\n",
       "    <tr>\n",
       "      <th>...</th>\n",
       "      <td>...</td>\n",
       "    </tr>\n",
       "    <tr>\n",
       "      <th>mezod</th>\n",
       "      <td>1</td>\n",
       "    </tr>\n",
       "    <tr>\n",
       "      <th>kagant15</th>\n",
       "      <td>1</td>\n",
       "    </tr>\n",
       "    <tr>\n",
       "      <th>cblair</th>\n",
       "      <td>1</td>\n",
       "    </tr>\n",
       "    <tr>\n",
       "      <th>petyappetrov</th>\n",
       "      <td>1</td>\n",
       "    </tr>\n",
       "    <tr>\n",
       "      <th>rstellar</th>\n",
       "      <td>1</td>\n",
       "    </tr>\n",
       "  </tbody>\n",
       "</table>\n",
       "<p>781 rows × 1 columns</p>\n",
       "</div>"
      ],
      "text/plain": [
       "                IssueCount\n",
       "names                     \n",
       "felixsanz               11\n",
       "ghost                   11\n",
       "erights                 11\n",
       "architectcodes           8\n",
       "olalonde                 8\n",
       "...                    ...\n",
       "mezod                    1\n",
       "kagant15                 1\n",
       "cblair                   1\n",
       "petyappetrov             1\n",
       "rstellar                 1\n",
       "\n",
       "[781 rows x 1 columns]"
      ]
     },
     "execution_count": 20,
     "metadata": {},
     "output_type": "execute_result"
    }
   ],
   "source": [
    "#Getting the issue founder name\n",
    "all_issues['login_name'] = all_issues.user.apply(lambda x: x.get('login'))\n",
    "#Getting the frequency count per user for issues\n",
    "issuePerUser = pandas.DataFrame()\n",
    "#issuePerUser = all_issues['login_name'].value_counts()\n",
    "issuePerUser = all_issues['login_name'].value_counts().rename_axis('names').to_frame('IssueCount')\n",
    "#Unique number of users\n",
    "print(len(issuePerUser))\n",
    "#frequency count per user for issues only\n",
    "issuePerUser################################################### Has final list of names and their count"
   ]
  },
  {
   "cell_type": "markdown",
   "metadata": {},
   "source": [
    "2. Getting the count of comments per contributor (Issues & Pull request)"
   ]
  },
  {
   "cell_type": "code",
   "execution_count": 21,
   "metadata": {},
   "outputs": [
    {
     "name": "stdout",
     "output_type": "stream",
     "text": [
      "7473\n"
     ]
    }
   ],
   "source": [
    "issue_comments = gh.get(\"/repos/airbnb/javascript/issues/comments\", params={\"since\": \"2015-01-01T:00:00:00Z\"})\n",
    "gh.writeData(\"airbnbIssuecomment.json\", issue_comments)\n",
    "issue_comments_all = pandas.DataFrame(issue_comments)\n",
    "print(len(issue_comments_all))"
   ]
  },
  {
   "cell_type": "code",
   "execution_count": 22,
   "metadata": {},
   "outputs": [
    {
     "data": {
      "text/plain": [
       "url                         https://api.github.com/repos/airbnb/javascript...\n",
       "html_url                    https://github.com/airbnb/javascript/pull/232#...\n",
       "issue_url                   https://api.github.com/repos/airbnb/javascript...\n",
       "id                                                                   71777525\n",
       "node_id                                      MDEyOklzc3VlQ29tbWVudDcxNzc3NTI1\n",
       "user                        {'login': 'ClimbsRocks', 'id': 7017045, 'node_...\n",
       "created_at                                               2015-01-28T03:59:42Z\n",
       "updated_at                                               2015-01-28T03:59:42Z\n",
       "author_association                                                CONTRIBUTOR\n",
       "body                        Glad I could help! Our group's been pretty psy...\n",
       "performed_via_github_app                                                 None\n",
       "Name: 10, dtype: object"
      ]
     },
     "execution_count": 22,
     "metadata": {},
     "output_type": "execute_result"
    }
   ],
   "source": [
    "issue_comments_all.iloc[10]"
   ]
  },
  {
   "cell_type": "code",
   "execution_count": 23,
   "metadata": {},
   "outputs": [
    {
     "name": "stdout",
     "output_type": "stream",
     "text": [
      "1425\n"
     ]
    },
    {
     "data": {
      "text/html": [
       "<div>\n",
       "<style scoped>\n",
       "    .dataframe tbody tr th:only-of-type {\n",
       "        vertical-align: middle;\n",
       "    }\n",
       "\n",
       "    .dataframe tbody tr th {\n",
       "        vertical-align: top;\n",
       "    }\n",
       "\n",
       "    .dataframe thead th {\n",
       "        text-align: right;\n",
       "    }\n",
       "</style>\n",
       "<table border=\"1\" class=\"dataframe\">\n",
       "  <thead>\n",
       "    <tr style=\"text-align: right;\">\n",
       "      <th></th>\n",
       "      <th>IssueCount</th>\n",
       "    </tr>\n",
       "    <tr>\n",
       "      <th>names</th>\n",
       "      <th></th>\n",
       "    </tr>\n",
       "  </thead>\n",
       "  <tbody>\n",
       "    <tr>\n",
       "      <th>lencioni</th>\n",
       "      <td>44</td>\n",
       "    </tr>\n",
       "    <tr>\n",
       "      <th>hshoff</th>\n",
       "      <td>24</td>\n",
       "    </tr>\n",
       "    <tr>\n",
       "      <th>architectcodes</th>\n",
       "      <td>21</td>\n",
       "    </tr>\n",
       "    <tr>\n",
       "      <th>ljharb</th>\n",
       "      <td>21</td>\n",
       "    </tr>\n",
       "    <tr>\n",
       "      <th>1pete</th>\n",
       "      <td>18</td>\n",
       "    </tr>\n",
       "    <tr>\n",
       "      <th>...</th>\n",
       "      <td>...</td>\n",
       "    </tr>\n",
       "    <tr>\n",
       "      <th>niuchunling</th>\n",
       "      <td>1</td>\n",
       "    </tr>\n",
       "    <tr>\n",
       "      <th>shelbyspeegle</th>\n",
       "      <td>1</td>\n",
       "    </tr>\n",
       "    <tr>\n",
       "      <th>zhujinxuan</th>\n",
       "      <td>1</td>\n",
       "    </tr>\n",
       "    <tr>\n",
       "      <th>ddcahutton</th>\n",
       "      <td>1</td>\n",
       "    </tr>\n",
       "    <tr>\n",
       "      <th>pascalduez</th>\n",
       "      <td>1</td>\n",
       "    </tr>\n",
       "  </tbody>\n",
       "</table>\n",
       "<p>1425 rows × 1 columns</p>\n",
       "</div>"
      ],
      "text/plain": [
       "                IssueCount\n",
       "names                     \n",
       "lencioni                44\n",
       "hshoff                  24\n",
       "architectcodes          21\n",
       "ljharb                  21\n",
       "1pete                   18\n",
       "...                    ...\n",
       "niuchunling              1\n",
       "shelbyspeegle            1\n",
       "zhujinxuan               1\n",
       "ddcahutton               1\n",
       "pascalduez               1\n",
       "\n",
       "[1425 rows x 1 columns]"
      ]
     },
     "execution_count": 23,
     "metadata": {},
     "output_type": "execute_result"
    }
   ],
   "source": [
    "#Getting the frequency count per user for comments\n",
    "#Getting the commenter name\n",
    "issue_comments_all['login_name'] = bitc_all_issues.user.apply(lambda x: x.get('login'))\n",
    "\n",
    "#Getting the frequency count of comments per user for both issue & PR\n",
    "issuePerUser_comments = pandas.DataFrame()\n",
    "#issuePerUser = all_issues['login_name'].value_counts()\n",
    "issuePerUser_comments = issue_comments_all['login_name'].value_counts().rename_axis('names').to_frame('IssueCount')\n",
    "#Unique number of users\n",
    "print(len(issuePerUser_comments))\n",
    "issuePerUser_comments################################################### Has final list of names and their count of the commenter"
   ]
  }
 ],
 "metadata": {
  "kernelspec": {
   "display_name": "Python 3",
   "language": "python",
   "name": "python3"
  },
  "language_info": {
   "codemirror_mode": {
    "name": "ipython",
    "version": 3
   },
   "file_extension": ".py",
   "mimetype": "text/x-python",
   "name": "python",
   "nbconvert_exporter": "python",
   "pygments_lexer": "ipython3",
   "version": "3.8.3"
  }
 },
 "nbformat": 4,
 "nbformat_minor": 4
}
