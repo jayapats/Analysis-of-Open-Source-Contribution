{
 "cells": [
  {
   "cell_type": "markdown",
   "metadata": {},
   "source": [
    "# OSS Contributions\n",
    "# Code contributions Vs Non-code contributions\n",
    "\n",
    "Research Question1: How do we compare non-code contributors with code contributors?\n",
    "\\\n",
    "Research Question2: What is the frequency of code and non-code contributions in OSS projects over the past 5 years?\\\n",
    "Research Question3: How does gender have an effect on the type of contribution being made in OSS projects?"
   ]
  },
  {
   "cell_type": "code",
   "execution_count": 1,
   "metadata": {},
   "outputs": [],
   "source": [
    "userName = 'jayapats'\n",
    "token = '04dd4847335a564206868c472cc63660f461dc44'"
   ]
  },
  {
   "cell_type": "code",
   "execution_count": 2,
   "metadata": {},
   "outputs": [
    {
     "name": "stdout",
     "output_type": "stream",
     "text": [
      "Collecting git+https://github.com/EPICLab/miner-utils\n",
      "  Cloning https://github.com/EPICLab/miner-utils to c:\\users\\sweth\\appdata\\local\\temp\\pip-req-build-jmol1ptj\n",
      "  Installing build dependencies: started\n",
      "  Installing build dependencies: finished with status 'done'\n",
      "  Getting requirements to build wheel: started\n",
      "  Getting requirements to build wheel: finished with status 'done'\n",
      "    Preparing wheel metadata: started\n",
      "    Preparing wheel metadata: finished with status 'done'\n",
      "Requirement already satisfied (use --upgrade to upgrade): MinerUtils==2.6.0 from git+https://github.com/EPICLab/miner-utils in c:\\programdata\\anaconda3\\lib\\site-packages\n",
      "Requirement already satisfied: bigjson in c:\\programdata\\anaconda3\\lib\\site-packages (from MinerUtils==2.6.0) (1.0.4)\n",
      "Requirement already satisfied: requests in c:\\programdata\\anaconda3\\lib\\site-packages (from MinerUtils==2.6.0) (2.24.0)\n",
      "Requirement already satisfied: urllib3!=1.25.0,!=1.25.1,<1.26,>=1.21.1 in c:\\programdata\\anaconda3\\lib\\site-packages (from requests->MinerUtils==2.6.0) (1.25.9)\n",
      "Requirement already satisfied: certifi>=2017.4.17 in c:\\programdata\\anaconda3\\lib\\site-packages (from requests->MinerUtils==2.6.0) (2020.6.20)\n",
      "Requirement already satisfied: idna<3,>=2.5 in c:\\programdata\\anaconda3\\lib\\site-packages (from requests->MinerUtils==2.6.0) (2.10)\n",
      "Requirement already satisfied: chardet<4,>=3.0.2 in c:\\programdata\\anaconda3\\lib\\site-packages (from requests->MinerUtils==2.6.0) (3.0.4)\n",
      "Building wheels for collected packages: MinerUtils\n",
      "  Building wheel for MinerUtils (PEP 517): started\n",
      "  Building wheel for MinerUtils (PEP 517): finished with status 'done'\n",
      "  Created wheel for MinerUtils: filename=MinerUtils-2.6.0-py3-none-any.whl size=7872 sha256=cb972d3ab956e7e0c1391ae9db36c7b7b7b1f2b6c616fac9003804405866124c\n",
      "  Stored in directory: C:\\Users\\sweth\\AppData\\Local\\Temp\\pip-ephem-wheel-cache-xrmh5e9h\\wheels\\fe\\91\\28\\5eba084a42706e9e4d24f442a0c04ff0eca7d51d53d1cc46d4\n",
      "Successfully built MinerUtils\n"
     ]
    },
    {
     "name": "stderr",
     "output_type": "stream",
     "text": [
      "WARNING: You are using pip version 20.2.3; however, version 20.3 is available.\n",
      "You should consider upgrading via the 'c:\\programdata\\anaconda3\\python.exe -m pip install --upgrade pip' command.\n"
     ]
    },
    {
     "name": "stdout",
     "output_type": "stream",
     "text": [
      "Requirement already satisfied: gitpython in c:\\programdata\\anaconda3\\lib\\site-packages (3.1.9)\n",
      "Requirement already satisfied: gitdb<5,>=4.0.1 in c:\\programdata\\anaconda3\\lib\\site-packages (from gitpython) (4.0.5)\n",
      "Requirement already satisfied: smmap<4,>=3.0.1 in c:\\programdata\\anaconda3\\lib\\site-packages (from gitdb<5,>=4.0.1->gitpython) (3.0.4)\n"
     ]
    },
    {
     "name": "stderr",
     "output_type": "stream",
     "text": [
      "WARNING: You are using pip version 20.2.3; however, version 20.3 is available.\n",
      "You should consider upgrading via the 'c:\\programdata\\anaconda3\\python.exe -m pip install --upgrade pip' command.\n"
     ]
    },
    {
     "name": "stdout",
     "output_type": "stream",
     "text": [
      "Requirement already satisfied: pandas in c:\\programdata\\anaconda3\\lib\\site-packages (1.0.5)\n",
      "Requirement already satisfied: numpy>=1.13.3 in c:\\programdata\\anaconda3\\lib\\site-packages (from pandas) (1.18.5)\n",
      "Requirement already satisfied: pytz>=2017.2 in c:\\programdata\\anaconda3\\lib\\site-packages (from pandas) (2020.1)\n",
      "Requirement already satisfied: python-dateutil>=2.6.1 in c:\\programdata\\anaconda3\\lib\\site-packages (from pandas) (2.8.1)\n",
      "Requirement already satisfied: six>=1.5 in c:\\programdata\\anaconda3\\lib\\site-packages (from python-dateutil>=2.6.1->pandas) (1.15.0)\n"
     ]
    },
    {
     "name": "stderr",
     "output_type": "stream",
     "text": [
      "WARNING: You are using pip version 20.2.3; however, version 20.3 is available.\n",
      "You should consider upgrading via the 'c:\\programdata\\anaconda3\\python.exe -m pip install --upgrade pip' command.\n"
     ]
    },
    {
     "name": "stdout",
     "output_type": "stream",
     "text": [
      "Requirement already satisfied: numpy in c:\\programdata\\anaconda3\\lib\\site-packages (1.18.5)\n"
     ]
    },
    {
     "name": "stderr",
     "output_type": "stream",
     "text": [
      "WARNING: You are using pip version 20.2.3; however, version 20.3 is available.\n",
      "You should consider upgrading via the 'c:\\programdata\\anaconda3\\python.exe -m pip install --upgrade pip' command.\n"
     ]
    },
    {
     "name": "stdout",
     "output_type": "stream",
     "text": [
      "Requirement already satisfied: matplotlib in c:\\programdata\\anaconda3\\lib\\site-packages (3.2.2)"
     ]
    },
    {
     "name": "stderr",
     "output_type": "stream",
     "text": [
      "WARNING: You are using pip version 20.2.3; however, version 20.3 is available.\n",
      "You should consider upgrading via the 'c:\\programdata\\anaconda3\\python.exe -m pip install --upgrade pip' command.\n"
     ]
    },
    {
     "name": "stdout",
     "output_type": "stream",
     "text": [
      "\n",
      "Requirement already satisfied: python-dateutil>=2.1 in c:\\programdata\\anaconda3\\lib\\site-packages (from matplotlib) (2.8.1)\n",
      "Requirement already satisfied: pyparsing!=2.0.4,!=2.1.2,!=2.1.6,>=2.0.1 in c:\\programdata\\anaconda3\\lib\\site-packages (from matplotlib) (2.4.7)\n",
      "Requirement already satisfied: kiwisolver>=1.0.1 in c:\\programdata\\anaconda3\\lib\\site-packages (from matplotlib) (1.2.0)\n",
      "Requirement already satisfied: numpy>=1.11 in c:\\programdata\\anaconda3\\lib\\site-packages (from matplotlib) (1.18.5)\n",
      "Requirement already satisfied: cycler>=0.10 in c:\\programdata\\anaconda3\\lib\\site-packages (from matplotlib) (0.10.0)\n",
      "Requirement already satisfied: six>=1.5 in c:\\programdata\\anaconda3\\lib\\site-packages (from python-dateutil>=2.1->matplotlib) (1.15.0)\n"
     ]
    },
    {
     "name": "stderr",
     "output_type": "stream",
     "text": [
      "WARNING: You are using pip version 20.2.3; however, version 20.3 is available.\n",
      "You should consider upgrading via the 'c:\\programdata\\anaconda3\\python.exe -m pip install --upgrade pip' command.\n"
     ]
    },
    {
     "name": "stdout",
     "output_type": "stream",
     "text": [
      "Requirement already satisfied: stop-words in c:\\programdata\\anaconda3\\lib\\site-packages (2018.7.23)\n"
     ]
    }
   ],
   "source": [
    "# install any missing dependencies (only needed if you haven't installed these already during tutorials)\n",
    "!pip install \"git+https://github.com/EPICLab/miner-utils\"\n",
    "!pip install gitpython\n",
    "!pip install \"pandas\"\n",
    "!pip install \"numpy\"\n",
    "!pip install \"matplotlib\"\n",
    "!pip install \"stop-words\"\n",
    "import pandas"
   ]
  },
  {
   "cell_type": "code",
   "execution_count": 3,
   "metadata": {},
   "outputs": [],
   "source": [
    "# setup environment (import any needed dependencies)\n",
    "from minerutils import GitHub\n",
    "gh = GitHub(userName, token)"
   ]
  },
  {
   "cell_type": "code",
   "execution_count": 49,
   "metadata": {},
   "outputs": [
    {
     "data": {
      "text/plain": [
       "'1.0.5'"
      ]
     },
     "execution_count": 49,
     "metadata": {},
     "output_type": "execute_result"
    }
   ],
   "source": [
    "pandas.__version__"
   ]
  },
  {
   "cell_type": "markdown",
   "metadata": {},
   "source": [
    "## Part 1: `bitcoin/bitcoin` project\n",
    "\n",
    "For this assignment, we will investigate the [bitcoin/bitcoin](https://github.com/bitcoin/bitcoin) project."
   ]
  },
  {
   "cell_type": "markdown",
   "metadata": {},
   "source": [
    "# RQ-1: How do we compare non-code contributors with code contributors?\n",
    "1.Getting count of issue raised per contributor"
   ]
  },
  {
   "cell_type": "code",
   "execution_count": 4,
   "metadata": {},
   "outputs": [
    {
     "name": "stdout",
     "output_type": "stream",
     "text": [
      "1285\n"
     ]
    }
   ],
   "source": [
    "all_issues = gh.get(\"/repos/d3/d3/issues\", params={\"since\": \"2015-01-01T:00:00:00Z\", \"state\":\"all\"})\n",
    "gh.writeData(\"airbnbIssues.json\", all_issues)\n",
    "all_issues = pandas.DataFrame(all_issues)\n",
    "print(len(all_issues))"
   ]
  },
  {
   "cell_type": "code",
   "execution_count": 5,
   "metadata": {},
   "outputs": [
    {
     "data": {
      "text/html": [
       "<div>\n",
       "<style scoped>\n",
       "    .dataframe tbody tr th:only-of-type {\n",
       "        vertical-align: middle;\n",
       "    }\n",
       "\n",
       "    .dataframe tbody tr th {\n",
       "        vertical-align: top;\n",
       "    }\n",
       "\n",
       "    .dataframe thead th {\n",
       "        text-align: right;\n",
       "    }\n",
       "</style>\n",
       "<table border=\"1\" class=\"dataframe\">\n",
       "  <thead>\n",
       "    <tr style=\"text-align: right;\">\n",
       "      <th></th>\n",
       "      <th>Timestamp</th>\n",
       "    </tr>\n",
       "  </thead>\n",
       "  <tbody>\n",
       "    <tr>\n",
       "      <th>0</th>\n",
       "      <td>2020-11-13T15:14:43Z</td>\n",
       "    </tr>\n",
       "    <tr>\n",
       "      <th>1</th>\n",
       "      <td>2020-11-04T06:44:38Z</td>\n",
       "    </tr>\n",
       "    <tr>\n",
       "      <th>2</th>\n",
       "      <td>2020-10-27T14:07:57Z</td>\n",
       "    </tr>\n",
       "    <tr>\n",
       "      <th>3</th>\n",
       "      <td>2020-09-29T04:07:58Z</td>\n",
       "    </tr>\n",
       "    <tr>\n",
       "      <th>4</th>\n",
       "      <td>2020-09-25T07:52:58Z</td>\n",
       "    </tr>\n",
       "    <tr>\n",
       "      <th>...</th>\n",
       "      <td>...</td>\n",
       "    </tr>\n",
       "    <tr>\n",
       "      <th>1280</th>\n",
       "      <td>2011-03-17T10:00:05Z</td>\n",
       "    </tr>\n",
       "    <tr>\n",
       "      <th>1281</th>\n",
       "      <td>2011-03-14T09:13:10Z</td>\n",
       "    </tr>\n",
       "    <tr>\n",
       "      <th>1282</th>\n",
       "      <td>2011-02-24T22:57:07Z</td>\n",
       "    </tr>\n",
       "    <tr>\n",
       "      <th>1283</th>\n",
       "      <td>2010-11-05T02:50:11Z</td>\n",
       "    </tr>\n",
       "    <tr>\n",
       "      <th>1284</th>\n",
       "      <td>2010-09-30T04:38:43Z</td>\n",
       "    </tr>\n",
       "  </tbody>\n",
       "</table>\n",
       "<p>1285 rows × 1 columns</p>\n",
       "</div>"
      ],
      "text/plain": [
       "                 Timestamp\n",
       "0     2020-11-13T15:14:43Z\n",
       "1     2020-11-04T06:44:38Z\n",
       "2     2020-10-27T14:07:57Z\n",
       "3     2020-09-29T04:07:58Z\n",
       "4     2020-09-25T07:52:58Z\n",
       "...                    ...\n",
       "1280  2011-03-17T10:00:05Z\n",
       "1281  2011-03-14T09:13:10Z\n",
       "1282  2011-02-24T22:57:07Z\n",
       "1283  2010-11-05T02:50:11Z\n",
       "1284  2010-09-30T04:38:43Z\n",
       "\n",
       "[1285 rows x 1 columns]"
      ]
     },
     "execution_count": 5,
     "metadata": {},
     "output_type": "execute_result"
    }
   ],
   "source": [
    "#for timestamp\n",
    "IssuesPR_time = pandas.DataFrame()\n",
    "IssuesPR_time[\"Timestamp\"] = all_issues[\"created_at\"]\n",
    "IssuesPR_time\n",
    "#Saving the timestamps to a csv file\n",
    "IssuesPR_time.to_csv(r'/Timestamp_files/d3/IssueTimestamp_d3.csv', index = False, header=True)"
   ]
  },
  {
   "cell_type": "code",
   "execution_count": 6,
   "metadata": {},
   "outputs": [],
   "source": [
    "#Saving the timestamps to a csv file\n",
    "IssuesPR_time.to_csv(r'/Timestamp_files/d3/IssueTimestamp_d3.csv', index = False, header=True)"
   ]
  },
  {
   "cell_type": "code",
   "execution_count": 8,
   "metadata": {},
   "outputs": [
    {
     "name": "stdout",
     "output_type": "stream",
     "text": [
      "1013\n",
      "1285\n"
     ]
    }
   ],
   "source": [
    "IssuesPR = pandas.DataFrame(all_issues) #Has all the issues & PR's\n",
    "# Dropping PR's from the issues to get the issue count alone\n",
    "issues = pandas.DataFrame()\n",
    "for index,row in all_issues.iterrows():\n",
    "    if pandas.notnull(row[\"pull_request\"]):\n",
    "        issues=all_issues.drop(index, inplace=True)\n",
    "print(len(all_issues))#Data after droping PR's,this now has only issues\n",
    "print(len(IssuesPR))#Has all the issues & PR's"
   ]
  },
  {
   "cell_type": "code",
   "execution_count": 19,
   "metadata": {},
   "outputs": [
    {
     "data": {
      "text/plain": [
       "url                         https://api.github.com/repos/airbnb/javascript...\n",
       "repository_url                 https://api.github.com/repos/airbnb/javascript\n",
       "labels_url                  https://api.github.com/repos/airbnb/javascript...\n",
       "comments_url                https://api.github.com/repos/airbnb/javascript...\n",
       "events_url                  https://api.github.com/repos/airbnb/javascript...\n",
       "html_url                     https://github.com/airbnb/javascript/issues/2092\n",
       "id                                                                  495932807\n",
       "node_id                                              MDU6SXNzdWU0OTU5MzI4MDc=\n",
       "number                                                                   2092\n",
       "title                                                    Undescore param name\n",
       "user                        {'login': 'alexalannunes', 'id': 16847836, 'no...\n",
       "labels                                                                     []\n",
       "state                                                                  closed\n",
       "locked                                                                  False\n",
       "assignee                                                                 None\n",
       "assignees                                                                  []\n",
       "milestone                                                                None\n",
       "comments                                                                    3\n",
       "created_at                                               2019-09-19T17:30:30Z\n",
       "updated_at                                               2019-09-19T17:32:41Z\n",
       "closed_at                                                2019-09-19T17:31:37Z\n",
       "author_association                                                       NONE\n",
       "active_lock_reason                                                       None\n",
       "body                        Why colors of the param names on a function ch...\n",
       "performed_via_github_app                                                 None\n",
       "pull_request                                                              NaN\n",
       "Name: 216, dtype: object"
      ]
     },
     "execution_count": 19,
     "metadata": {},
     "output_type": "execute_result"
    }
   ],
   "source": [
    "all_issues.iloc[120]"
   ]
  },
  {
   "cell_type": "code",
   "execution_count": 10,
   "metadata": {},
   "outputs": [
    {
     "name": "stdout",
     "output_type": "stream",
     "text": [
      "796\n"
     ]
    },
    {
     "data": {
      "text/html": [
       "<div>\n",
       "<style scoped>\n",
       "    .dataframe tbody tr th:only-of-type {\n",
       "        vertical-align: middle;\n",
       "    }\n",
       "\n",
       "    .dataframe tbody tr th {\n",
       "        vertical-align: top;\n",
       "    }\n",
       "\n",
       "    .dataframe thead th {\n",
       "        text-align: right;\n",
       "    }\n",
       "</style>\n",
       "<table border=\"1\" class=\"dataframe\">\n",
       "  <thead>\n",
       "    <tr style=\"text-align: right;\">\n",
       "      <th></th>\n",
       "      <th>IssueCount</th>\n",
       "    </tr>\n",
       "    <tr>\n",
       "      <th>names</th>\n",
       "      <th></th>\n",
       "    </tr>\n",
       "  </thead>\n",
       "  <tbody>\n",
       "    <tr>\n",
       "      <th>mbostock</th>\n",
       "      <td>96</td>\n",
       "    </tr>\n",
       "    <tr>\n",
       "      <th>ghost</th>\n",
       "      <td>12</td>\n",
       "    </tr>\n",
       "    <tr>\n",
       "      <th>shawnbot</th>\n",
       "      <td>6</td>\n",
       "    </tr>\n",
       "    <tr>\n",
       "      <th>jasondavies</th>\n",
       "      <td>6</td>\n",
       "    </tr>\n",
       "    <tr>\n",
       "      <th>antonioaltamura</th>\n",
       "      <td>5</td>\n",
       "    </tr>\n",
       "    <tr>\n",
       "      <th>...</th>\n",
       "      <td>...</td>\n",
       "    </tr>\n",
       "    <tr>\n",
       "      <th>TrySound</th>\n",
       "      <td>1</td>\n",
       "    </tr>\n",
       "    <tr>\n",
       "      <th>jiywang3</th>\n",
       "      <td>1</td>\n",
       "    </tr>\n",
       "    <tr>\n",
       "      <th>ResidentMario</th>\n",
       "      <td>1</td>\n",
       "    </tr>\n",
       "    <tr>\n",
       "      <th>coli</th>\n",
       "      <td>1</td>\n",
       "    </tr>\n",
       "    <tr>\n",
       "      <th>THordeq</th>\n",
       "      <td>1</td>\n",
       "    </tr>\n",
       "  </tbody>\n",
       "</table>\n",
       "<p>796 rows × 1 columns</p>\n",
       "</div>"
      ],
      "text/plain": [
       "                 IssueCount\n",
       "names                      \n",
       "mbostock                 96\n",
       "ghost                    12\n",
       "shawnbot                  6\n",
       "jasondavies               6\n",
       "antonioaltamura           5\n",
       "...                     ...\n",
       "TrySound                  1\n",
       "jiywang3                  1\n",
       "ResidentMario             1\n",
       "coli                      1\n",
       "THordeq                   1\n",
       "\n",
       "[796 rows x 1 columns]"
      ]
     },
     "execution_count": 10,
     "metadata": {},
     "output_type": "execute_result"
    }
   ],
   "source": [
    "#Getting the issue founder name\n",
    "all_issues['login_name'] = all_issues.user.apply(lambda x: x.get('login'))\n",
    "#Getting the frequency count per user for issues\n",
    "issuePerUser = pandas.DataFrame()\n",
    "#issuePerUser = all_issues['login_name'].value_counts()\n",
    "issuePerUser = all_issues['login_name'].value_counts().rename_axis('names').to_frame('IssueCount')\n",
    "#Unique number of users\n",
    "print(len(issuePerUser))\n",
    "#frequency count per user for issues only\n",
    "issuePerUser################################################### Has final list of names and their count"
   ]
  },
  {
   "cell_type": "markdown",
   "metadata": {},
   "source": [
    "2. Getting the count of comments per contributor (Issues & Pull request)"
   ]
  },
  {
   "cell_type": "code",
   "execution_count": 7,
   "metadata": {},
   "outputs": [
    {
     "name": "stdout",
     "output_type": "stream",
     "text": [
      "177\n"
     ]
    }
   ],
   "source": [
    "issue_comments = gh.get(\"/repos/d3/d3/comments\", params={\"since\": \"2015-01-01T:00:00:00Z\"})\n",
    "gh.writeData(\"airbnbIssuecomment.json\", issue_comments)\n",
    "issue_comments_all = pandas.DataFrame(issue_comments)\n",
    "print(len(issue_comments_all))"
   ]
  },
  {
   "cell_type": "code",
   "execution_count": 11,
   "metadata": {},
   "outputs": [],
   "source": [
    "#Timestamp for comments#########################\n",
    "#for timestamp\n",
    "IssuesPR_cmnt_time = pandas.DataFrame()\n",
    "IssuesPR_cmnt_time[\"Timestamp\"] = issue_comments_all[\"created_at\"]\n",
    "IssuesPR_cmnt_time\n",
    "#Saving the timestamps to a csv file\n",
    "IssuesPR_cmnt_time.to_csv(r'/Timestamp_files/d3/IssueCmntTimestamp_d3.csv', index = False, header=True)"
   ]
  },
  {
   "cell_type": "code",
   "execution_count": 9,
   "metadata": {},
   "outputs": [
    {
     "data": {
      "text/plain": [
       "url                   https://api.github.com/repos/d3/d3/comments/34...\n",
       "html_url              https://github.com/d3/d3/commit/c29d4dc1a7b476...\n",
       "id                                                               342010\n",
       "node_id                                MDEzOkNvbW1pdENvbW1lbnQzNDIwMTA=\n",
       "user                  {'login': 'jasondavies', 'id': 31223, 'node_id...\n",
       "position                                                             35\n",
       "line                                                                 37\n",
       "path                                                        d3.chart.js\n",
       "commit_id                      c29d4dc1a7b47614fc3b65ef091cc2d1ac395b2e\n",
       "created_at                                         2011-04-14T07:24:50Z\n",
       "updated_at                                         2011-04-14T07:24:50Z\n",
       "author_association                                          CONTRIBUTOR\n",
       "body                  Cool, I see now why you didn't suggest a terna...\n",
       "Name: 10, dtype: object"
      ]
     },
     "execution_count": 9,
     "metadata": {},
     "output_type": "execute_result"
    }
   ],
   "source": [
    "issue_comments_all.iloc[10]"
   ]
  },
  {
   "cell_type": "code",
   "execution_count": 23,
   "metadata": {},
   "outputs": [
    {
     "name": "stdout",
     "output_type": "stream",
     "text": [
      "1425\n"
     ]
    },
    {
     "data": {
      "text/html": [
       "<div>\n",
       "<style scoped>\n",
       "    .dataframe tbody tr th:only-of-type {\n",
       "        vertical-align: middle;\n",
       "    }\n",
       "\n",
       "    .dataframe tbody tr th {\n",
       "        vertical-align: top;\n",
       "    }\n",
       "\n",
       "    .dataframe thead th {\n",
       "        text-align: right;\n",
       "    }\n",
       "</style>\n",
       "<table border=\"1\" class=\"dataframe\">\n",
       "  <thead>\n",
       "    <tr style=\"text-align: right;\">\n",
       "      <th></th>\n",
       "      <th>IssueCount</th>\n",
       "    </tr>\n",
       "    <tr>\n",
       "      <th>names</th>\n",
       "      <th></th>\n",
       "    </tr>\n",
       "  </thead>\n",
       "  <tbody>\n",
       "    <tr>\n",
       "      <th>lencioni</th>\n",
       "      <td>44</td>\n",
       "    </tr>\n",
       "    <tr>\n",
       "      <th>hshoff</th>\n",
       "      <td>24</td>\n",
       "    </tr>\n",
       "    <tr>\n",
       "      <th>architectcodes</th>\n",
       "      <td>21</td>\n",
       "    </tr>\n",
       "    <tr>\n",
       "      <th>ljharb</th>\n",
       "      <td>21</td>\n",
       "    </tr>\n",
       "    <tr>\n",
       "      <th>1pete</th>\n",
       "      <td>18</td>\n",
       "    </tr>\n",
       "    <tr>\n",
       "      <th>...</th>\n",
       "      <td>...</td>\n",
       "    </tr>\n",
       "    <tr>\n",
       "      <th>niuchunling</th>\n",
       "      <td>1</td>\n",
       "    </tr>\n",
       "    <tr>\n",
       "      <th>shelbyspeegle</th>\n",
       "      <td>1</td>\n",
       "    </tr>\n",
       "    <tr>\n",
       "      <th>zhujinxuan</th>\n",
       "      <td>1</td>\n",
       "    </tr>\n",
       "    <tr>\n",
       "      <th>ddcahutton</th>\n",
       "      <td>1</td>\n",
       "    </tr>\n",
       "    <tr>\n",
       "      <th>pascalduez</th>\n",
       "      <td>1</td>\n",
       "    </tr>\n",
       "  </tbody>\n",
       "</table>\n",
       "<p>1425 rows × 1 columns</p>\n",
       "</div>"
      ],
      "text/plain": [
       "                IssueCount\n",
       "names                     \n",
       "lencioni                44\n",
       "hshoff                  24\n",
       "architectcodes          21\n",
       "ljharb                  21\n",
       "1pete                   18\n",
       "...                    ...\n",
       "niuchunling              1\n",
       "shelbyspeegle            1\n",
       "zhujinxuan               1\n",
       "ddcahutton               1\n",
       "pascalduez               1\n",
       "\n",
       "[1425 rows x 1 columns]"
      ]
     },
     "execution_count": 23,
     "metadata": {},
     "output_type": "execute_result"
    }
   ],
   "source": [
    "#Getting the frequency count per user for comments\n",
    "#Getting the commenter name\n",
    "issue_comments_all['login_name'] = issue_comments_all.user.apply(lambda x: x.get('login'))\n",
    "\n",
    "#Getting the frequency count of comments per user for both issue & PR\n",
    "issuePerUser_comments = pandas.DataFrame()\n",
    "#issuePerUser = all_issues['login_name'].value_counts()\n",
    "issuePerUser_comments = issue_comments_all['login_name'].value_counts().rename_axis('names').to_frame('IssueCount')\n",
    "#Unique number of users\n",
    "print(len(issuePerUser_comments))\n",
    "issuePerUser_comments################################################### Has final list of names and their count of the commenter"
   ]
  },
  {
   "cell_type": "markdown",
   "metadata": {},
   "source": [
    "RQ2 - What is the frequency of code and non-code contributions in OSS projects over the past 5 years"
   ]
  },
  {
   "cell_type": "code",
   "execution_count": 5,
   "metadata": {},
   "outputs": [
    {
     "name": "stdout",
     "output_type": "stream",
     "text": [
      "13481\n"
     ]
    },
    {
     "data": {
      "text/plain": [
       "<matplotlib.axes._subplots.AxesSubplot at 0x21357156a60>"
      ]
     },
     "execution_count": 5,
     "metadata": {},
     "output_type": "execute_result"
    },
    {
     "data": {
      "image/png": "[encoded data removed]",
      "text/plain": [
       "<Figure size 432x288 with 1 Axes>"
      ]
     },
     "metadata": {
      "needs_background": "light"
     },
     "output_type": "display_data"
    }
   ],
   "source": [
    "####Frequency of Code contributions\n",
    "code_freq = pandas.read_csv('all_code.csv')\n",
    "print(len(code_freq))\n",
    "for index,row in code_freq.iterrows():\n",
    "    code_freq[\"Timestamp\"] = pandas.to_datetime(code_freq[\"Timestamp\"], format=\"%Y-%m-%dT%H:%M:%S\")\n",
    "    code_freq[\"Month\"] = code_freq[\"Timestamp\"].dt.strftime(\"%B\")\n",
    "grouped_Month = code_freq.groupby(\"Month\").size()\n",
    "grouped_Month.plot(x=\"Month\", y=\"index\", kind=\"bar\")"
   ]
  },
  {
   "cell_type": "code",
   "execution_count": null,
   "metadata": {},
   "outputs": [
    {
     "name": "stdout",
     "output_type": "stream",
     "text": [
      "29448\n"
     ]
    }
   ],
   "source": [
    "####Frequency of Non-code contributions\n",
    "code_freq = pandas.read_csv('Issue_PR.csv')\n",
    "print(len(code_freq))\n",
    "for index,row in code_freq.iterrows():\n",
    "    code_freq[\"Timestamp\"] = pandas.to_datetime(code_freq[\"Timestamp\"], format=\"%Y-%m-%dT%H:%M:%S\")\n",
    "    code_freq[\"Month\"] = code_freq[\"Timestamp\"].dt.strftime(\"%Y\")\n",
    "grouped_Year = code_freq.groupby(\"Year\").size()\n",
    "grouped_Year.plot(x=\"Year\", y=\"index\", kind=\"bar\")"
   ]
  },
  {
   "cell_type": "code",
   "execution_count": null,
   "metadata": {},
   "outputs": [],
   "source": [
    "#For each projet \n",
    "####Frequency of Code contributions\n",
    "code_freq = pandas.read_csv('all_code.csv')\n",
    "print(len(code_freq))\n",
    "for index,row in code_freq.iterrows():\n",
    "    code_freq[\"Timestamp\"] = pandas.to_datetime(code_freq[\"Timestamp\"], format=\"%Y-%m-%dT%H:%M:%S\")\n",
    "    code_freq[\"Month\"] = code_freq[\"Timestamp\"].dt.strftime(\"%B\")\n",
    "grouped_Month = code_freq.groupby(\"Month\").size()\n",
    "grouped_Month.plot(x=\"Month\", y=\"index\", kind=\"bar\")"
   ]
  },
  {
   "cell_type": "code",
   "execution_count": 29,
   "metadata": {},
   "outputs": [
    {
     "name": "stdout",
     "output_type": "stream",
     "text": [
      "812\n"
     ]
    },
    {
     "data": {
      "text/plain": [
       "<matplotlib.axes._subplots.AxesSubplot at 0x1cd229e5430>"
      ]
     },
     "execution_count": 29,
     "metadata": {},
     "output_type": "execute_result"
    },
    {
     "data": {
      "image/png": "[encoded data removed]",
      "text/plain": [
       "<Figure size 432x288 with 1 Axes>"
      ]
     },
     "metadata": {
      "needs_background": "light"
     },
     "output_type": "display_data"
    }
   ],
   "source": [
    "####Plotting Code for D3##########################\n",
    "code_freq = pandas.read_csv('d3_code.csv')\n",
    "print(len(code_freq))\n",
    "for index,row in code_freq.iterrows():\n",
    "    code_freq[\"Timestamp\"] = pandas.to_datetime(code_freq[\"Timestamp\"], format=\"%Y-%m-%dT%H:%M:%S\")\n",
    "    code_freq[\"Month\"] = code_freq[\"Timestamp\"].dt.strftime(\"%B\")\n",
    "grouped_Month = code_freq.groupby(\"Month\").size()\n",
    "grouped_Month.plot(x=\"Month\", y=\"index\", kind=\"bar\")"
   ]
  },
  {
   "cell_type": "code",
   "execution_count": 35,
   "metadata": {},
   "outputs": [
    {
     "name": "stdout",
     "output_type": "stream",
     "text": [
      "812\n",
      "Mean:  67.66666666666667\n",
      "Median:  37.0\n",
      "Standard Deviation:  79.07572128643339\n",
      "Variance of code contributions:  6252.969696969696\n"
     ]
    }
   ],
   "source": [
    "###Descriptive stats\n",
    "code_freq = pandas.read_csv('d3_code.csv')\n",
    "print(len(code_freq))\n",
    "for index,row in code_freq.iterrows():\n",
    "    code_freq[\"Timestamp\"] = pandas.to_datetime(code_freq[\"Timestamp\"], format=\"%Y-%m-%dT%H:%M:%S\")\n",
    "    code_freq[\"Month\"] = code_freq[\"Timestamp\"].dt.strftime(\"%B\")\n",
    "grouped_Month = code_freq.groupby(\"Month\").size()\n",
    "print(\"Mean: \", grouped_Month.mean())\n",
    "print(\"Median: \",grouped_Month.median())\n",
    "print(\"Standard Deviation: \", grouped_Month.std())\n",
    "print(\"Variance of code contributions: \", grouped_Month.var())"
   ]
  },
  {
   "cell_type": "code",
   "execution_count": 31,
   "metadata": {},
   "outputs": [
    {
     "name": "stdout",
     "output_type": "stream",
     "text": [
      "1515\n"
     ]
    },
    {
     "data": {
      "text/plain": [
       "<matplotlib.axes._subplots.AxesSubplot at 0x1cd2294dd90>"
      ]
     },
     "execution_count": 31,
     "metadata": {},
     "output_type": "execute_result"
    },
    {
     "data": {
      "image/png": "[encoded data removed]",
      "text/plain": [
       "<Figure size 432x288 with 1 Axes>"
      ]
     },
     "metadata": {
      "needs_background": "light"
     },
     "output_type": "display_data"
    }
   ],
   "source": [
    "####Plotting Non-Code for D3##########################\n",
    "noncode_freq = pandas.read_csv('d3d3_nonc_Timestamp.csv')\n",
    "print(len(noncode_freq))\n",
    "for index,row in noncode_freq.iterrows():\n",
    "    noncode_freq[\"Timestamp\"] = pandas.to_datetime(noncode_freq[\"Timestamp\"], format=\"%Y-%m-%dT%H:%M:%S\")\n",
    "    noncode_freq[\"Month\"] = noncode_freq[\"Timestamp\"].dt.strftime(\"%B\")\n",
    "grouped_Month = noncode_freq.groupby(\"Month\").size()\n",
    "grouped_Month.plot(x=\"Month\", y=\"index\", kind=\"bar\")"
   ]
  },
  {
   "cell_type": "code",
   "execution_count": 36,
   "metadata": {},
   "outputs": [
    {
     "name": "stdout",
     "output_type": "stream",
     "text": [
      "1515\n",
      "Mean:  126.25\n",
      "Median:  122.5\n",
      "Standard Deviation:  15.297801386889793\n",
      "Variance of code contributions:  234.02272727272728\n"
     ]
    }
   ],
   "source": [
    "###Descriptive stats non-code D3\n",
    "noncode_freq = pandas.read_csv('d3d3_nonc_Timestamp.csv')\n",
    "print(len(noncode_freq))\n",
    "for index,row in noncode_freq.iterrows():\n",
    "    noncode_freq[\"Timestamp\"] = pandas.to_datetime(noncode_freq[\"Timestamp\"], format=\"%Y-%m-%dT%H:%M:%S\")\n",
    "    noncode_freq[\"Month\"] = noncode_freq[\"Timestamp\"].dt.strftime(\"%B\")\n",
    "grouped_Month = noncode_freq.groupby(\"Month\").size()\n",
    "print(\"Mean: \", grouped_Month.mean())\n",
    "print(\"Median: \",grouped_Month.median())\n",
    "print(\"Standard Deviation: \", grouped_Month.std())\n",
    "print(\"Variance of code contributions: \", grouped_Month.var())"
   ]
  },
  {
   "cell_type": "code",
   "execution_count": 22,
   "metadata": {},
   "outputs": [
    {
     "name": "stdout",
     "output_type": "stream",
     "text": [
      "1377\n"
     ]
    },
    {
     "data": {
      "text/plain": [
       "<matplotlib.axes._subplots.AxesSubplot at 0x1cd227c7220>"
      ]
     },
     "execution_count": 22,
     "metadata": {},
     "output_type": "execute_result"
    },
    {
     "data": {
      "image/png": "[encoded data removed]",
      "text/plain": [
       "<Figure size 432x288 with 1 Axes>"
      ]
     },
     "metadata": {
      "needs_background": "light"
     },
     "output_type": "display_data"
    }
   ],
   "source": [
    "####Plotting Code for Airbnb##########################\n",
    "code_freq = pandas.read_csv('airbnb_code.csv')\n",
    "print(len(code_freq))\n",
    "for index,row in code_freq.iterrows():\n",
    "    code_freq[\"Timestamp\"] = pandas.to_datetime(code_freq[\"Timestamp\"], format=\"%Y-%m-%dT%H:%M:%S\")\n",
    "    code_freq[\"Month\"] = code_freq[\"Timestamp\"].dt.strftime(\"%B\")\n",
    "grouped_Month = code_freq.groupby(\"Month\").size()\n",
    "grouped_Month.plot(x=\"Month\", y=\"index\", kind=\"bar\")"
   ]
  },
  {
   "cell_type": "code",
   "execution_count": 37,
   "metadata": {},
   "outputs": [
    {
     "name": "stdout",
     "output_type": "stream",
     "text": [
      "1377\n",
      "Mean:  114.75\n",
      "Median:  114.0\n",
      "Standard Deviation:  30.45749646489499\n",
      "Variance of code contributions:  927.6590909090909\n"
     ]
    }
   ],
   "source": [
    "####Stats Code for Airbnb##########################\n",
    "code_freq = pandas.read_csv('airbnb_code.csv')\n",
    "print(len(code_freq))\n",
    "for index,row in code_freq.iterrows():\n",
    "    code_freq[\"Timestamp\"] = pandas.to_datetime(code_freq[\"Timestamp\"], format=\"%Y-%m-%dT%H:%M:%S\")\n",
    "    code_freq[\"Month\"] = code_freq[\"Timestamp\"].dt.strftime(\"%B\")\n",
    "grouped_Month = code_freq.groupby(\"Month\").size()\n",
    "###Descriptive stats\n",
    "print(\"Mean: \", grouped_Month.mean())\n",
    "print(\"Median: \",grouped_Month.median())\n",
    "print(\"Standard Deviation: \", grouped_Month.std())\n",
    "print(\"Variance of code contributions: \", grouped_Month.var())"
   ]
  },
  {
   "cell_type": "code",
   "execution_count": 23,
   "metadata": {},
   "outputs": [
    {
     "name": "stdout",
     "output_type": "stream",
     "text": [
      "10264\n"
     ]
    },
    {
     "data": {
      "text/plain": [
       "<matplotlib.axes._subplots.AxesSubplot at 0x1cd228eb8e0>"
      ]
     },
     "execution_count": 23,
     "metadata": {},
     "output_type": "execute_result"
    },
    {
     "data": {
      "image/png": "[encoded data removed]",
      "text/plain": [
       "<Figure size 432x288 with 1 Axes>"
      ]
     },
     "metadata": {
      "needs_background": "light"
     },
     "output_type": "display_data"
    }
   ],
   "source": [
    "####Plotting Non-Code for Airbnb##########################\n",
    "noncode_freq = pandas.read_csv('airbnb_noncode_time.csv')\n",
    "print(len(noncode_freq))\n",
    "for index,row in noncode_freq.iterrows():\n",
    "    noncode_freq[\"Timestamp\"] = pandas.to_datetime(noncode_freq[\"Timestamp\"], format=\"%Y-%m-%dT%H:%M:%S\")\n",
    "    noncode_freq[\"Month\"] = noncode_freq[\"Timestamp\"].dt.strftime(\"%B\")\n",
    "grouped_Month = noncode_freq.groupby(\"Month\").size()\n",
    "grouped_Month.plot(x=\"Month\", y=\"index\", kind=\"bar\")"
   ]
  },
  {
   "cell_type": "code",
   "execution_count": 39,
   "metadata": {},
   "outputs": [
    {
     "name": "stdout",
     "output_type": "stream",
     "text": [
      "10264\n",
      "Mean:  855.3333333333334\n",
      "Median:  844.5\n",
      "Standard Deviation:  97.38240771994363\n",
      "Variance of code contributions:  9483.333333333336\n"
     ]
    }
   ],
   "source": [
    "####Stats Non-Code for Airbnb##########################\n",
    "noncode_freq = pandas.read_csv('airbnb_noncode_time.csv')\n",
    "print(len(noncode_freq))\n",
    "for index,row in noncode_freq.iterrows():\n",
    "    noncode_freq[\"Timestamp\"] = pandas.to_datetime(noncode_freq[\"Timestamp\"], format=\"%Y-%m-%dT%H:%M:%S\")\n",
    "    noncode_freq[\"Month\"] = noncode_freq[\"Timestamp\"].dt.strftime(\"%B\")\n",
    "grouped_Month = noncode_freq.groupby(\"Month\").size()\n",
    "###Descriptive stats\n",
    "print(\"Mean: \", grouped_Month.mean())\n",
    "print(\"Median: \",grouped_Month.median())\n",
    "print(\"Standard Deviation: \", grouped_Month.std())\n",
    "print(\"Variance of code contributions: \", grouped_Month.var())"
   ]
  },
  {
   "cell_type": "code",
   "execution_count": 24,
   "metadata": {},
   "outputs": [
    {
     "name": "stdout",
     "output_type": "stream",
     "text": [
      "894\n"
     ]
    },
    {
     "data": {
      "text/plain": [
       "<matplotlib.axes._subplots.AxesSubplot at 0x1cd228e63d0>"
      ]
     },
     "execution_count": 24,
     "metadata": {},
     "output_type": "execute_result"
    },
    {
     "data": {
      "image/png": "[encoded data removed]",
      "text/plain": [
       "<Figure size 432x288 with 1 Axes>"
      ]
     },
     "metadata": {
      "needs_background": "light"
     },
     "output_type": "display_data"
    }
   ],
   "source": [
    "####Plotting Code for Getify##########################\n",
    "code_freq = pandas.read_csv('getify_code.csv')\n",
    "print(len(code_freq))\n",
    "for index,row in code_freq.iterrows():\n",
    "    code_freq[\"Timestamp\"] = pandas.to_datetime(code_freq[\"Timestamp\"], format=\"%Y-%m-%dT%H:%M:%S\")\n",
    "    code_freq[\"Month\"] = code_freq[\"Timestamp\"].dt.strftime(\"%B\")\n",
    "grouped_Month = code_freq.groupby(\"Month\").size()\n",
    "grouped_Month.plot(x=\"Month\", y=\"index\", kind=\"bar\")"
   ]
  },
  {
   "cell_type": "code",
   "execution_count": 38,
   "metadata": {},
   "outputs": [
    {
     "name": "stdout",
     "output_type": "stream",
     "text": [
      "894\n",
      "Mean:  74.5\n",
      "Median:  66.0\n",
      "Standard Deviation:  36.275461277688684\n",
      "Variance of code contributions:  1315.909090909091\n"
     ]
    }
   ],
   "source": [
    "#Stats for code contribution\n",
    "code_freq = pandas.read_csv('getify_code.csv')\n",
    "print(len(code_freq))\n",
    "for index,row in code_freq.iterrows():\n",
    "    code_freq[\"Timestamp\"] = pandas.to_datetime(code_freq[\"Timestamp\"], format=\"%Y-%m-%dT%H:%M:%S\")\n",
    "    code_freq[\"Month\"] = code_freq[\"Timestamp\"].dt.strftime(\"%B\")\n",
    "grouped_Month = code_freq.groupby(\"Month\").size()\n",
    "print(\"Mean: \", grouped_Month.mean())\n",
    "print(\"Median: \",grouped_Month.median())\n",
    "print(\"Standard Deviation: \", grouped_Month.std())\n",
    "print(\"Variance of code contributions: \", grouped_Month.var())"
   ]
  },
  {
   "cell_type": "code",
   "execution_count": 25,
   "metadata": {},
   "outputs": [
    {
     "name": "stdout",
     "output_type": "stream",
     "text": [
      "4448\n"
     ]
    },
    {
     "data": {
      "text/plain": [
       "<matplotlib.axes._subplots.AxesSubplot at 0x1cd2290f8e0>"
      ]
     },
     "execution_count": 25,
     "metadata": {},
     "output_type": "execute_result"
    },
    {
     "data": {
      "image/png": "[encoded data removed]",
      "text/plain": [
       "<Figure size 432x288 with 1 Axes>"
      ]
     },
     "metadata": {
      "needs_background": "light"
     },
     "output_type": "display_data"
    }
   ],
   "source": [
    "####Plotting Non-Code for Getify##########################\n",
    "noncode_freq = pandas.read_csv('getify_non_code_time.csv')\n",
    "print(len(noncode_freq))\n",
    "for index,row in noncode_freq.iterrows():\n",
    "    noncode_freq[\"Timestamp\"] = pandas.to_datetime(noncode_freq[\"Timestamp\"], format=\"%Y-%m-%dT%H:%M:%S\")\n",
    "    noncode_freq[\"Month\"] = noncode_freq[\"Timestamp\"].dt.strftime(\"%B\")\n",
    "grouped_Month = noncode_freq.groupby(\"Month\").size()\n",
    "grouped_Month.plot(x=\"Month\", y=\"index\", kind=\"bar\")"
   ]
  },
  {
   "cell_type": "code",
   "execution_count": 40,
   "metadata": {},
   "outputs": [
    {
     "name": "stdout",
     "output_type": "stream",
     "text": [
      "4448\n",
      "Mean:  370.6666666666667\n",
      "Median:  339.5\n",
      "Standard Deviation:  88.22423222400494\n",
      "Variance of code contributions:  7783.515151515152\n"
     ]
    }
   ],
   "source": [
    "#Stats for Non-code\n",
    "noncode_freq = pandas.read_csv('getify_non_code_time.csv')\n",
    "print(len(noncode_freq))\n",
    "for index,row in noncode_freq.iterrows():\n",
    "    noncode_freq[\"Timestamp\"] = pandas.to_datetime(noncode_freq[\"Timestamp\"], format=\"%Y-%m-%dT%H:%M:%S\")\n",
    "    noncode_freq[\"Month\"] = noncode_freq[\"Timestamp\"].dt.strftime(\"%B\")\n",
    "grouped_Month = noncode_freq.groupby(\"Month\").size()\n",
    "print(\"Mean: \", grouped_Month.mean())\n",
    "print(\"Median: \",grouped_Month.median())\n",
    "print(\"Standard Deviation: \", grouped_Month.std())\n",
    "print(\"Variance of code contributions: \", grouped_Month.var())"
   ]
  },
  {
   "cell_type": "markdown",
   "metadata": {},
   "source": [
    "# https://github.com/public-apis/public-apis\n",
    "\n",
    "#Get all commits for the project for the last 5 years last 5 years\n",
    "commits = gh.get(\"repos/public-apis/public-apis/commits/\", params={\"since\": \"2015-01-01T:00:00:00Z\", \"until\": \"2020-01-01T:00:00:00Z\"})\n",
    "\n",
    "#Getting the logins or username of the authors who did the commits (not unique)\n",
    "login = []\n",
    "committed_at = []\n",
    "\n",
    "for commit in commits:\n",
    "    if (commit['author'] is not None):\n",
    "        login.append(commit['author']['login'])\n",
    "        print(len(login))\n",
    "        committed_at.append(commit['commit']['author']['date'])\n",
    "        print(len(committed_at))\n",
    "\n",
    "d_timestamp = {'Login': login, 'Timestamp': committed_at}\n",
    "committed_at_api = pandas.DataFrame(d_timestamp, columns=['Login','Timestamp'])\n",
    "\n",
    "# Saving the timestamps to a csv file\n",
    "committed_at_api.to_csv(r'timestamp_api.csv', index = False, header=True)\n",
    "\n",
    "#Getting unique logins and frequency of each\n",
    "df_login = pandas.DataFrame(login)\n",
    "df_login.columns = ['login']\n",
    "df_login = df_login.groupby([\"login\"]).size()\n",
    "\n",
    "#Authors ranked like Github according to code contributions\n",
    "df_login_rank = df_login.sort_values(ascending=False)\n",
    "\n",
    "#Getting the names and locations of all the unique contributors to run on GenderTool\n",
    "location = []\n",
    "name = []\n",
    "for i, row in enumerate(df_login_rank.values):\n",
    "    username = df_login_rank.index[i]\n",
    "    get_user = gh.get(\"users/\"+username+\"/\")\n",
    "    location.append(get_user['location'])\n",
    "    name.append(get_user['name'])\n",
    "\n",
    "d = {'Name':name,'Location':location}\n",
    "contributor_api = pandas.DataFrame(d, columns=['Name','Location'])\n",
    "#print(contributor_api)\n",
    "\n",
    "#Saving the data to a csv file to work with, later on\n",
    "contributor_api.to_csv(r'Name_Location_api.csv', index = False, header=True)"
   ]
  },
  {
   "cell_type": "code",
   "execution_count": 4,
   "metadata": {},
   "outputs": [
    {
     "name": "stdout",
     "output_type": "stream",
     "text": [
      "10595\n"
     ]
    }
   ],
   "source": [
    "####Tests for code & non-code##########################\n",
    "freq = pandas.read_csv('rq2_temp.csv')\n",
    "print(len(freq))\n",
    "for index,row in freq.iterrows():\n",
    "    freq[\"code_timestamp\"] = pandas.to_datetime(freq[\"code_timestamp\"], format=\"%Y-%m-%dT%H:%M:%S\")\n",
    "    freq[\"Year\"] = freq[\"code_timestamp\"].dt.strftime(\"%Y\")\n",
    "code_grouped_Year = freq.groupby(\"Year\").size()\n",
    "#grouped_Month.plot(x=\"Month\", y=\"index\", kind=\"bar\")"
   ]
  },
  {
   "cell_type": "code",
   "execution_count": 5,
   "metadata": {},
   "outputs": [
    {
     "name": "stdout",
     "output_type": "stream",
     "text": [
      "Year\n",
      "2013       3\n",
      "2014      19\n",
      "2015    2897\n",
      "2016    3320\n",
      "2017    1546\n",
      "2018    1437\n",
      "2019    1373\n",
      "dtype: int64\n"
     ]
    }
   ],
   "source": [
    "print(code_grouped_Year)"
   ]
  },
  {
   "cell_type": "code",
   "execution_count": 7,
   "metadata": {},
   "outputs": [
    {
     "data": {
      "text/html": [
       "<div>\n",
       "<style scoped>\n",
       "    .dataframe tbody tr th:only-of-type {\n",
       "        vertical-align: middle;\n",
       "    }\n",
       "\n",
       "    .dataframe tbody tr th {\n",
       "        vertical-align: top;\n",
       "    }\n",
       "\n",
       "    .dataframe thead th {\n",
       "        text-align: right;\n",
       "    }\n",
       "</style>\n",
       "<table border=\"1\" class=\"dataframe\">\n",
       "  <thead>\n",
       "    <tr style=\"text-align: right;\">\n",
       "      <th></th>\n",
       "      <th>code_timestamp</th>\n",
       "      <th>non_code_timestamp</th>\n",
       "      <th>Year</th>\n",
       "    </tr>\n",
       "  </thead>\n",
       "  <tbody>\n",
       "    <tr>\n",
       "      <th>0</th>\n",
       "      <td>2019-12-24 13:22:55+00:00</td>\n",
       "      <td>2020-11-21 09:31:13+00:00</td>\n",
       "      <td>2020</td>\n",
       "    </tr>\n",
       "    <tr>\n",
       "      <th>1</th>\n",
       "      <td>2019-12-22 22:40:53+00:00</td>\n",
       "      <td>2020-11-21 09:10:34+00:00</td>\n",
       "      <td>2020</td>\n",
       "    </tr>\n",
       "    <tr>\n",
       "      <th>2</th>\n",
       "      <td>2019-12-22 22:36:58+00:00</td>\n",
       "      <td>2020-11-09 18:53:59+00:00</td>\n",
       "      <td>2020</td>\n",
       "    </tr>\n",
       "    <tr>\n",
       "      <th>3</th>\n",
       "      <td>2019-12-16 21:03:27+00:00</td>\n",
       "      <td>2020-11-06 07:31:29+00:00</td>\n",
       "      <td>2020</td>\n",
       "    </tr>\n",
       "    <tr>\n",
       "      <th>4</th>\n",
       "      <td>2019-12-16 14:10:01+00:00</td>\n",
       "      <td>2020-10-25 17:43:33+00:00</td>\n",
       "      <td>2020</td>\n",
       "    </tr>\n",
       "    <tr>\n",
       "      <th>...</th>\n",
       "      <td>...</td>\n",
       "      <td>...</td>\n",
       "      <td>...</td>\n",
       "    </tr>\n",
       "    <tr>\n",
       "      <th>10590</th>\n",
       "      <td>2015-10-10 14:11:39+00:00</td>\n",
       "      <td>2015-10-28 12:27:16+00:00</td>\n",
       "      <td>2015</td>\n",
       "    </tr>\n",
       "    <tr>\n",
       "      <th>10591</th>\n",
       "      <td>2015-10-10 05:53:10+00:00</td>\n",
       "      <td>2015-10-28 12:30:49+00:00</td>\n",
       "      <td>2015</td>\n",
       "    </tr>\n",
       "    <tr>\n",
       "      <th>10592</th>\n",
       "      <td>2015-10-10 02:49:56+00:00</td>\n",
       "      <td>2015-10-28 12:36:32+00:00</td>\n",
       "      <td>2015</td>\n",
       "    </tr>\n",
       "    <tr>\n",
       "      <th>10593</th>\n",
       "      <td>2015-10-10 00:35:19+00:00</td>\n",
       "      <td>2015-10-28 17:41:58+00:00</td>\n",
       "      <td>2015</td>\n",
       "    </tr>\n",
       "    <tr>\n",
       "      <th>10594</th>\n",
       "      <td>2015-10-09 21:47:48+00:00</td>\n",
       "      <td>2015-10-28 17:49:17+00:00</td>\n",
       "      <td>2015</td>\n",
       "    </tr>\n",
       "  </tbody>\n",
       "</table>\n",
       "<p>10595 rows × 3 columns</p>\n",
       "</div>"
      ],
      "text/plain": [
       "                 code_timestamp        non_code_timestamp  Year\n",
       "0     2019-12-24 13:22:55+00:00 2020-11-21 09:31:13+00:00  2020\n",
       "1     2019-12-22 22:40:53+00:00 2020-11-21 09:10:34+00:00  2020\n",
       "2     2019-12-22 22:36:58+00:00 2020-11-09 18:53:59+00:00  2020\n",
       "3     2019-12-16 21:03:27+00:00 2020-11-06 07:31:29+00:00  2020\n",
       "4     2019-12-16 14:10:01+00:00 2020-10-25 17:43:33+00:00  2020\n",
       "...                         ...                       ...   ...\n",
       "10590 2015-10-10 14:11:39+00:00 2015-10-28 12:27:16+00:00  2015\n",
       "10591 2015-10-10 05:53:10+00:00 2015-10-28 12:30:49+00:00  2015\n",
       "10592 2015-10-10 02:49:56+00:00 2015-10-28 12:36:32+00:00  2015\n",
       "10593 2015-10-10 00:35:19+00:00 2015-10-28 17:41:58+00:00  2015\n",
       "10594 2015-10-09 21:47:48+00:00 2015-10-28 17:49:17+00:00  2015\n",
       "\n",
       "[10595 rows x 3 columns]"
      ]
     },
     "execution_count": 7,
     "metadata": {},
     "output_type": "execute_result"
    }
   ],
   "source": [
    "freq"
   ]
  },
  {
   "cell_type": "code",
   "execution_count": 18,
   "metadata": {},
   "outputs": [
    {
     "name": "stdout",
     "output_type": "stream",
     "text": [
      "82397\n"
     ]
    }
   ],
   "source": [
    "frequency = pandas.read_csv('rq2.csv')\n",
    "print(len(frequency))\n",
    "for index,row in frequency.iterrows():\n",
    "    frequency[\"code_timestamp\"] = pandas.to_datetime(frequency[\"code_timestamp\"], format=\"%Y-%m-%dT%H:%M:%S\")\n",
    "    frequency[\"non_code_timestamp\"] = pandas.to_datetime(frequency[\"non_code_timestamp\"], format=\"%Y-%m-%dT%H:%M:%S\")"
   ]
  },
  {
   "cell_type": "code",
   "execution_count": 23,
   "metadata": {},
   "outputs": [
    {
     "name": "stdout",
     "output_type": "stream",
     "text": [
      "code_timestamp       2019-12-24 13:22:55+00:00\n",
      "non_code_timestamp   2020-11-21 09:31:13+00:00\n",
      "Name: 0, dtype: datetime64[ns, UTC]\n"
     ]
    },
    {
     "data": {
      "text/html": [
       "<div>\n",
       "<style scoped>\n",
       "    .dataframe tbody tr th:only-of-type {\n",
       "        vertical-align: middle;\n",
       "    }\n",
       "\n",
       "    .dataframe tbody tr th {\n",
       "        vertical-align: top;\n",
       "    }\n",
       "\n",
       "    .dataframe thead th {\n",
       "        text-align: right;\n",
       "    }\n",
       "</style>\n",
       "<table border=\"1\" class=\"dataframe\">\n",
       "  <thead>\n",
       "    <tr style=\"text-align: right;\">\n",
       "      <th></th>\n",
       "      <th>code_timestamp</th>\n",
       "      <th>non_code_timestamp</th>\n",
       "    </tr>\n",
       "  </thead>\n",
       "  <tbody>\n",
       "    <tr>\n",
       "      <th>0</th>\n",
       "      <td>2019-12-24 13:22:55+00:00</td>\n",
       "      <td>2020-11-21 09:31:13+00:00</td>\n",
       "    </tr>\n",
       "    <tr>\n",
       "      <th>1</th>\n",
       "      <td>2019-12-22 22:40:53+00:00</td>\n",
       "      <td>2020-11-21 09:10:34+00:00</td>\n",
       "    </tr>\n",
       "    <tr>\n",
       "      <th>2</th>\n",
       "      <td>2019-12-22 22:36:58+00:00</td>\n",
       "      <td>2020-11-09 18:53:59+00:00</td>\n",
       "    </tr>\n",
       "    <tr>\n",
       "      <th>3</th>\n",
       "      <td>2019-12-16 21:03:27+00:00</td>\n",
       "      <td>2020-11-06 07:31:29+00:00</td>\n",
       "    </tr>\n",
       "    <tr>\n",
       "      <th>4</th>\n",
       "      <td>2019-12-16 14:10:01+00:00</td>\n",
       "      <td>2020-10-25 17:43:33+00:00</td>\n",
       "    </tr>\n",
       "    <tr>\n",
       "      <th>...</th>\n",
       "      <td>...</td>\n",
       "      <td>...</td>\n",
       "    </tr>\n",
       "    <tr>\n",
       "      <th>82392</th>\n",
       "      <td>NaT</td>\n",
       "      <td>2016-03-21 06:24:54+00:00</td>\n",
       "    </tr>\n",
       "    <tr>\n",
       "      <th>82393</th>\n",
       "      <td>NaT</td>\n",
       "      <td>2016-03-21 06:21:03+00:00</td>\n",
       "    </tr>\n",
       "    <tr>\n",
       "      <th>82394</th>\n",
       "      <td>NaT</td>\n",
       "      <td>2016-03-21 01:18:18+00:00</td>\n",
       "    </tr>\n",
       "    <tr>\n",
       "      <th>82395</th>\n",
       "      <td>NaT</td>\n",
       "      <td>2016-03-21 01:08:47+00:00</td>\n",
       "    </tr>\n",
       "    <tr>\n",
       "      <th>82396</th>\n",
       "      <td>NaT</td>\n",
       "      <td>2016-03-21 01:02:35+00:00</td>\n",
       "    </tr>\n",
       "  </tbody>\n",
       "</table>\n",
       "<p>82397 rows × 2 columns</p>\n",
       "</div>"
      ],
      "text/plain": [
       "                 code_timestamp        non_code_timestamp\n",
       "0     2019-12-24 13:22:55+00:00 2020-11-21 09:31:13+00:00\n",
       "1     2019-12-22 22:40:53+00:00 2020-11-21 09:10:34+00:00\n",
       "2     2019-12-22 22:36:58+00:00 2020-11-09 18:53:59+00:00\n",
       "3     2019-12-16 21:03:27+00:00 2020-11-06 07:31:29+00:00\n",
       "4     2019-12-16 14:10:01+00:00 2020-10-25 17:43:33+00:00\n",
       "...                         ...                       ...\n",
       "82392                       NaT 2016-03-21 06:24:54+00:00\n",
       "82393                       NaT 2016-03-21 06:21:03+00:00\n",
       "82394                       NaT 2016-03-21 01:18:18+00:00\n",
       "82395                       NaT 2016-03-21 01:08:47+00:00\n",
       "82396                       NaT 2016-03-21 01:02:35+00:00\n",
       "\n",
       "[82397 rows x 2 columns]"
      ]
     },
     "execution_count": 23,
     "metadata": {},
     "output_type": "execute_result"
    }
   ],
   "source": [
    "print(frequency.iloc[0])\n",
    "frequency\n",
    "#GB=DF.groupby([(DF.index.year),(DF.index.month)]).sum()"
   ]
  },
  {
   "cell_type": "code",
   "execution_count": 24,
   "metadata": {},
   "outputs": [
    {
     "name": "stdout",
     "output_type": "stream",
     "text": [
      "<pandas.core.groupby.generic.DataFrameGroupBy object at 0x000001A201FF3220>\n"
     ]
    }
   ],
   "source": [
    "freq_grp = frequency.groupby([frequency['code_timestamp'].dt.year, frequency['code_timestamp'].dt.month])\n",
    "print(freq_grp)"
   ]
  },
  {
   "cell_type": "code",
   "execution_count": 31,
   "metadata": {},
   "outputs": [
    {
     "data": {
      "text/html": [
       "<div>\n",
       "<style scoped>\n",
       "    .dataframe tbody tr th:only-of-type {\n",
       "        vertical-align: middle;\n",
       "    }\n",
       "\n",
       "    .dataframe tbody tr th {\n",
       "        vertical-align: top;\n",
       "    }\n",
       "\n",
       "    .dataframe thead th {\n",
       "        text-align: right;\n",
       "    }\n",
       "</style>\n",
       "<table border=\"1\" class=\"dataframe\">\n",
       "  <thead>\n",
       "    <tr style=\"text-align: right;\">\n",
       "      <th></th>\n",
       "      <th>code_timestamp</th>\n",
       "      <th>non_code_timestamp</th>\n",
       "    </tr>\n",
       "  </thead>\n",
       "  <tbody>\n",
       "    <tr>\n",
       "      <th>0</th>\n",
       "      <td>2019-12-24 13:22:55+00:00</td>\n",
       "      <td>2020-11-21 09:31:13+00:00</td>\n",
       "    </tr>\n",
       "    <tr>\n",
       "      <th>1</th>\n",
       "      <td>2019-12-22 22:40:53+00:00</td>\n",
       "      <td>2020-11-21 09:10:34+00:00</td>\n",
       "    </tr>\n",
       "    <tr>\n",
       "      <th>2</th>\n",
       "      <td>2019-12-22 22:36:58+00:00</td>\n",
       "      <td>2020-11-09 18:53:59+00:00</td>\n",
       "    </tr>\n",
       "    <tr>\n",
       "      <th>3</th>\n",
       "      <td>2019-12-16 21:03:27+00:00</td>\n",
       "      <td>2020-11-06 07:31:29+00:00</td>\n",
       "    </tr>\n",
       "    <tr>\n",
       "      <th>4</th>\n",
       "      <td>2019-12-16 14:10:01+00:00</td>\n",
       "      <td>2020-10-25 17:43:33+00:00</td>\n",
       "    </tr>\n",
       "    <tr>\n",
       "      <th>...</th>\n",
       "      <td>...</td>\n",
       "      <td>...</td>\n",
       "    </tr>\n",
       "    <tr>\n",
       "      <th>82392</th>\n",
       "      <td>NaT</td>\n",
       "      <td>2016-03-21 06:24:54+00:00</td>\n",
       "    </tr>\n",
       "    <tr>\n",
       "      <th>82393</th>\n",
       "      <td>NaT</td>\n",
       "      <td>2016-03-21 06:21:03+00:00</td>\n",
       "    </tr>\n",
       "    <tr>\n",
       "      <th>82394</th>\n",
       "      <td>NaT</td>\n",
       "      <td>2016-03-21 01:18:18+00:00</td>\n",
       "    </tr>\n",
       "    <tr>\n",
       "      <th>82395</th>\n",
       "      <td>NaT</td>\n",
       "      <td>2016-03-21 01:08:47+00:00</td>\n",
       "    </tr>\n",
       "    <tr>\n",
       "      <th>82396</th>\n",
       "      <td>NaT</td>\n",
       "      <td>2016-03-21 01:02:35+00:00</td>\n",
       "    </tr>\n",
       "  </tbody>\n",
       "</table>\n",
       "<p>82397 rows × 2 columns</p>\n",
       "</div>"
      ],
      "text/plain": [
       "                 code_timestamp        non_code_timestamp\n",
       "0     2019-12-24 13:22:55+00:00 2020-11-21 09:31:13+00:00\n",
       "1     2019-12-22 22:40:53+00:00 2020-11-21 09:10:34+00:00\n",
       "2     2019-12-22 22:36:58+00:00 2020-11-09 18:53:59+00:00\n",
       "3     2019-12-16 21:03:27+00:00 2020-11-06 07:31:29+00:00\n",
       "4     2019-12-16 14:10:01+00:00 2020-10-25 17:43:33+00:00\n",
       "...                         ...                       ...\n",
       "82392                       NaT 2016-03-21 06:24:54+00:00\n",
       "82393                       NaT 2016-03-21 06:21:03+00:00\n",
       "82394                       NaT 2016-03-21 01:18:18+00:00\n",
       "82395                       NaT 2016-03-21 01:08:47+00:00\n",
       "82396                       NaT 2016-03-21 01:02:35+00:00\n",
       "\n",
       "[82397 rows x 2 columns]"
      ]
     },
     "execution_count": 31,
     "metadata": {},
     "output_type": "execute_result"
    }
   ],
   "source": [
    "#print(len(freq_grp))\n"
   ]
  },
  {
   "cell_type": "code",
   "execution_count": 33,
   "metadata": {},
   "outputs": [
    {
     "data": {
      "text/html": [
       "<div>\n",
       "<style scoped>\n",
       "    .dataframe tbody tr th:only-of-type {\n",
       "        vertical-align: middle;\n",
       "    }\n",
       "\n",
       "    .dataframe tbody tr th {\n",
       "        vertical-align: top;\n",
       "    }\n",
       "\n",
       "    .dataframe thead th {\n",
       "        text-align: right;\n",
       "    }\n",
       "</style>\n",
       "<table border=\"1\" class=\"dataframe\">\n",
       "  <thead>\n",
       "    <tr style=\"text-align: right;\">\n",
       "      <th></th>\n",
       "      <th>code_timestamp</th>\n",
       "      <th>non_code_timestamp</th>\n",
       "      <th>code_year_month</th>\n",
       "      <th>noncode_year_month</th>\n",
       "    </tr>\n",
       "  </thead>\n",
       "  <tbody>\n",
       "    <tr>\n",
       "      <th>0</th>\n",
       "      <td>2019-12-24 13:22:55+00:00</td>\n",
       "      <td>2020-11-21 09:31:13+00:00</td>\n",
       "      <td>2019-12</td>\n",
       "      <td>2020-11</td>\n",
       "    </tr>\n",
       "    <tr>\n",
       "      <th>1</th>\n",
       "      <td>2019-12-22 22:40:53+00:00</td>\n",
       "      <td>2020-11-21 09:10:34+00:00</td>\n",
       "      <td>2019-12</td>\n",
       "      <td>2020-11</td>\n",
       "    </tr>\n",
       "    <tr>\n",
       "      <th>2</th>\n",
       "      <td>2019-12-22 22:36:58+00:00</td>\n",
       "      <td>2020-11-09 18:53:59+00:00</td>\n",
       "      <td>2019-12</td>\n",
       "      <td>2020-11</td>\n",
       "    </tr>\n",
       "    <tr>\n",
       "      <th>3</th>\n",
       "      <td>2019-12-16 21:03:27+00:00</td>\n",
       "      <td>2020-11-06 07:31:29+00:00</td>\n",
       "      <td>2019-12</td>\n",
       "      <td>2020-11</td>\n",
       "    </tr>\n",
       "    <tr>\n",
       "      <th>4</th>\n",
       "      <td>2019-12-16 14:10:01+00:00</td>\n",
       "      <td>2020-10-25 17:43:33+00:00</td>\n",
       "      <td>2019-12</td>\n",
       "      <td>2020-10</td>\n",
       "    </tr>\n",
       "  </tbody>\n",
       "</table>\n",
       "</div>"
      ],
      "text/plain": [
       "             code_timestamp        non_code_timestamp code_year_month  \\\n",
       "0 2019-12-24 13:22:55+00:00 2020-11-21 09:31:13+00:00         2019-12   \n",
       "1 2019-12-22 22:40:53+00:00 2020-11-21 09:10:34+00:00         2019-12   \n",
       "2 2019-12-22 22:36:58+00:00 2020-11-09 18:53:59+00:00         2019-12   \n",
       "3 2019-12-16 21:03:27+00:00 2020-11-06 07:31:29+00:00         2019-12   \n",
       "4 2019-12-16 14:10:01+00:00 2020-10-25 17:43:33+00:00         2019-12   \n",
       "\n",
       "  noncode_year_month  \n",
       "0            2020-11  \n",
       "1            2020-11  \n",
       "2            2020-11  \n",
       "3            2020-11  \n",
       "4            2020-10  "
      ]
     },
     "execution_count": 33,
     "metadata": {},
     "output_type": "execute_result"
    }
   ],
   "source": [
    "frequency['code_year_month'] = frequency['code_timestamp'].dt.strftime('%Y-%m')\n",
    "frequency['noncode_year_month'] = frequency['non_code_timestamp'].dt.strftime('%Y-%m')\n",
    "frequency.head()"
   ]
  },
  {
   "cell_type": "code",
   "execution_count": 38,
   "metadata": {},
   "outputs": [
    {
     "data": {
      "text/html": [
       "<div>\n",
       "<style scoped>\n",
       "    .dataframe tbody tr th:only-of-type {\n",
       "        vertical-align: middle;\n",
       "    }\n",
       "\n",
       "    .dataframe tbody tr th {\n",
       "        vertical-align: top;\n",
       "    }\n",
       "\n",
       "    .dataframe thead th {\n",
       "        text-align: right;\n",
       "    }\n",
       "</style>\n",
       "<table border=\"1\" class=\"dataframe\">\n",
       "  <thead>\n",
       "    <tr style=\"text-align: right;\">\n",
       "      <th></th>\n",
       "      <th>code_year_month</th>\n",
       "      <th>code_frequency</th>\n",
       "    </tr>\n",
       "  </thead>\n",
       "  <tbody>\n",
       "    <tr>\n",
       "      <th>0</th>\n",
       "      <td>2013-02</td>\n",
       "      <td>1</td>\n",
       "    </tr>\n",
       "    <tr>\n",
       "      <th>1</th>\n",
       "      <td>2013-07</td>\n",
       "      <td>5</td>\n",
       "    </tr>\n",
       "    <tr>\n",
       "      <th>2</th>\n",
       "      <td>2013-08</td>\n",
       "      <td>1</td>\n",
       "    </tr>\n",
       "    <tr>\n",
       "      <th>3</th>\n",
       "      <td>2013-09</td>\n",
       "      <td>1</td>\n",
       "    </tr>\n",
       "    <tr>\n",
       "      <th>4</th>\n",
       "      <td>2013-10</td>\n",
       "      <td>1</td>\n",
       "    </tr>\n",
       "    <tr>\n",
       "      <th>...</th>\n",
       "      <td>...</td>\n",
       "      <td>...</td>\n",
       "    </tr>\n",
       "    <tr>\n",
       "      <th>71</th>\n",
       "      <td>2019-08</td>\n",
       "      <td>141</td>\n",
       "    </tr>\n",
       "    <tr>\n",
       "      <th>72</th>\n",
       "      <td>2019-09</td>\n",
       "      <td>67</td>\n",
       "    </tr>\n",
       "    <tr>\n",
       "      <th>73</th>\n",
       "      <td>2019-10</td>\n",
       "      <td>318</td>\n",
       "    </tr>\n",
       "    <tr>\n",
       "      <th>74</th>\n",
       "      <td>2019-11</td>\n",
       "      <td>150</td>\n",
       "    </tr>\n",
       "    <tr>\n",
       "      <th>75</th>\n",
       "      <td>2019-12</td>\n",
       "      <td>125</td>\n",
       "    </tr>\n",
       "  </tbody>\n",
       "</table>\n",
       "<p>76 rows × 2 columns</p>\n",
       "</div>"
      ],
      "text/plain": [
       "   code_year_month  code_frequency\n",
       "0          2013-02               1\n",
       "1          2013-07               5\n",
       "2          2013-08               1\n",
       "3          2013-09               1\n",
       "4          2013-10               1\n",
       "..             ...             ...\n",
       "71         2019-08             141\n",
       "72         2019-09              67\n",
       "73         2019-10             318\n",
       "74         2019-11             150\n",
       "75         2019-12             125\n",
       "\n",
       "[76 rows x 2 columns]"
      ]
     },
     "execution_count": 38,
     "metadata": {},
     "output_type": "execute_result"
    }
   ],
   "source": [
    "frequency.groupby('code_year_month').size().reset_index().rename(columns={0: 'code_frequency'})\n",
    "#frequency.groupby('noncode_year_month').size().reset_index().rename(columns={0: 'noncode_frequency'})\n",
    "#frequency.head()"
   ]
  },
  {
   "cell_type": "code",
   "execution_count": 46,
   "metadata": {},
   "outputs": [],
   "source": [
    "###############Grouped data is counted and store in a data frame for code\n",
    "freqDatagrouped = pandas.DataFrame()\n",
    "freqDatagrouped = frequency['code_year_month'].value_counts().rename_axis('code_year_month').to_frame('codefreqCount')\n",
    "print(len(freqDatagrouped))\n",
    "freqDatagrouped\n",
    "freqDatagrouped.to_csv(r'freqCode.csv', index = True, header=True)"
   ]
  },
  {
   "cell_type": "code",
   "execution_count": 47,
   "metadata": {},
   "outputs": [],
   "source": [
    "###############Grouped data is counted and store in a data frame for non-code\n",
    "freqDatagrouped1 = pandas.DataFrame()\n",
    "freqDatagrouped1 = frequency['noncode_year_month'].value_counts().rename_axis('noncode_year_month').to_frame('noncodefreqCount')\n",
    "print(len(freqDatagrouped1))\n",
    "freqDatagrouped1\n",
    "freqDatagrouped1.to_csv(r'freqnonCode.csv', index = True, header=True)"
   ]
  },
  {
   "cell_type": "code",
   "execution_count": 48,
   "metadata": {},
   "outputs": [
    {
     "data": {
      "text/plain": [
       "<matplotlib.axes._subplots.AxesSubplot at 0x1a206fb6550>"
      ]
     },
     "execution_count": 48,
     "metadata": {},
     "output_type": "execute_result"
    },
    {
     "data": {
      "image/png": "[encoded data removed]",
      "text/plain": [
       "<Figure size 432x288 with 1 Axes>"
      ]
     },
     "metadata": {
      "needs_background": "light"
     },
     "output_type": "display_data"
    }
   ],
   "source": [
    "grouped_Year_Month = pandas.read_csv('RQ2test_data.csv')\n",
    "grouped_Year_Month.plot(x=\"Date\", y=\"Code\", kind=\"bar\")"
   ]
  },
  {
   "cell_type": "markdown",
   "metadata": {},
   "source": [
    "Descriptive Statistics for Code and Non-code contributions per each year"
   ]
  },
  {
   "cell_type": "code",
   "execution_count": 7,
   "metadata": {},
   "outputs": [
    {
     "name": "stdout",
     "output_type": "stream",
     "text": [
      "2015 Descriptive statistics for Code contributions\n",
      "Mean:  292.5\n",
      "Median:  279.0\n",
      "Mode:  0     228\n",
      "1     243\n",
      "2     248\n",
      "3     265\n",
      "4     268\n",
      "5     273\n",
      "6     285\n",
      "7     292\n",
      "8     297\n",
      "9     312\n",
      "10    366\n",
      "11    433\n",
      "dtype: int64\n",
      "Standard Deviation:  57.149723613425365\n",
      "Variance of code contributions:  3266.090909090909\n",
      "2015 Descriptive statistics for Non-code contributions\n",
      "Mean:  1350.75\n",
      "Median:  1387.5\n",
      "Mode:  0      878\n",
      "1      911\n",
      "2     1150\n",
      "3     1219\n",
      "4     1351\n",
      "5     1365\n",
      "6     1410\n",
      "7     1444\n",
      "8     1447\n",
      "9     1509\n",
      "10    1703\n",
      "11    1822\n",
      "dtype: int64\n",
      "Standard Deviation:  280.81120315646564\n",
      "Variance of code contributions:  78854.93181818182\n"
     ]
    }
   ],
   "source": [
    "#Stats for 2015\n",
    "freq = pandas.read_csv('2015.csv')\n",
    "print(\"2015 Descriptive statistics for Code contributions\")\n",
    "print(\"Mean: \", freq[\"Code\"].mean())\n",
    "print(\"Median: \",freq[\"Code\"].median())\n",
    "print(\"Mode: \",freq[\"Code\"].mode())\n",
    "print(\"Standard Deviation: \", freq[\"Code\"].std())\n",
    "print(\"Variance of code contributions: \", freq[\"Code\"].var())\n",
    "\n",
    "print(\"2015 Descriptive statistics for Non-code contributions\")\n",
    "print(\"Mean: \", freq[\"Non-Code\"].mean())\n",
    "print(\"Median: \",freq[\"Non-Code\"].median())\n",
    "print(\"Mode: \",freq[\"Non-Code\"].mode())\n",
    "print(\"Standard Deviation: \", freq[\"Non-Code\"].std())\n",
    "print(\"Variance of code contributions: \", freq[\"Non-Code\"].var())"
   ]
  },
  {
   "cell_type": "code",
   "execution_count": 8,
   "metadata": {},
   "outputs": [
    {
     "name": "stdout",
     "output_type": "stream",
     "text": [
      "2016 Descriptive statistics for Code contributions\n",
      "Mean:  318.5\n",
      "Median:  287.0\n",
      "Mode:  0     196\n",
      "1     207\n",
      "2     233\n",
      "3     240\n",
      "4     251\n",
      "5     276\n",
      "6     298\n",
      "7     310\n",
      "8     372\n",
      "9     405\n",
      "10    434\n",
      "11    600\n",
      "dtype: int64\n",
      "Standard Deviation:  117.04428066489893\n",
      "Variance of code contributions:  13699.363636363636\n",
      "2016 Descriptive statistics for Non-code contributions\n",
      "Mean:  1237.5\n",
      "Median:  1190.5\n",
      "Mode:  0      990\n",
      "1     1035\n",
      "2     1043\n",
      "3     1143\n",
      "4     1146\n",
      "5     1189\n",
      "6     1192\n",
      "7     1213\n",
      "8     1373\n",
      "9     1473\n",
      "10    1510\n",
      "11    1543\n",
      "dtype: int64\n",
      "Standard Deviation:  191.60209716066169\n",
      "Variance of code contributions:  36711.36363636364\n"
     ]
    }
   ],
   "source": [
    "#Stats for 2016\n",
    "freq = pandas.read_csv('2016.csv')\n",
    "print(\"2016 Descriptive statistics for Code contributions\")\n",
    "print(\"Mean: \", freq[\"Code\"].mean())\n",
    "print(\"Median: \",freq[\"Code\"].median())\n",
    "print(\"Mode: \",freq[\"Code\"].mode())\n",
    "print(\"Standard Deviation: \", freq[\"Code\"].std())\n",
    "print(\"Variance of code contributions: \", freq[\"Code\"].var())\n",
    "\n",
    "print(\"2016 Descriptive statistics for Non-code contributions\")\n",
    "print(\"Mean: \", freq[\"Non-Code\"].mean())\n",
    "print(\"Median: \",freq[\"Non-Code\"].median())\n",
    "print(\"Mode: \",freq[\"Non-Code\"].mode())\n",
    "print(\"Standard Deviation: \", freq[\"Non-Code\"].std())\n",
    "print(\"Variance of code contributions: \", freq[\"Non-Code\"].var())"
   ]
  },
  {
   "cell_type": "code",
   "execution_count": 9,
   "metadata": {},
   "outputs": [
    {
     "name": "stdout",
     "output_type": "stream",
     "text": [
      "2017 Descriptive statistics for Code contributions\n",
      "Mean:  222.83333333333334\n",
      "Median:  229.0\n",
      "Mode:  0     109\n",
      "1     150\n",
      "2     165\n",
      "3     183\n",
      "4     206\n",
      "5     225\n",
      "6     233\n",
      "7     234\n",
      "8     238\n",
      "9     289\n",
      "10    319\n",
      "11    323\n",
      "dtype: int64\n",
      "Standard Deviation:  65.78177881634416\n",
      "Variance of code contributions:  4327.242424242425\n",
      "2017 Descriptive statistics for Non-code contributions\n",
      "Mean:  1030.0\n",
      "Median:  972.0\n",
      "Mode:  0      703\n",
      "1      886\n",
      "2      906\n",
      "3      909\n",
      "4      911\n",
      "5      961\n",
      "6      983\n",
      "7     1023\n",
      "8     1091\n",
      "9     1270\n",
      "10    1353\n",
      "11    1364\n",
      "dtype: int64\n",
      "Standard Deviation:  203.61907394133604\n",
      "Variance of code contributions:  41460.72727272727\n"
     ]
    }
   ],
   "source": [
    "#Stats for 2017\n",
    "freq = pandas.read_csv('2017.csv')\n",
    "print(\"2017 Descriptive statistics for Code contributions\")\n",
    "print(\"Mean: \", freq[\"Code\"].mean())\n",
    "print(\"Median: \",freq[\"Code\"].median())\n",
    "print(\"Mode: \",freq[\"Code\"].mode())\n",
    "print(\"Standard Deviation: \", freq[\"Code\"].std())\n",
    "print(\"Variance of code contributions: \", freq[\"Code\"].var())\n",
    "\n",
    "print(\"2017 Descriptive statistics for Non-code contributions\")\n",
    "print(\"Mean: \", freq[\"Non-Code\"].mean())\n",
    "print(\"Median: \",freq[\"Non-Code\"].median())\n",
    "print(\"Mode: \",freq[\"Non-Code\"].mode())\n",
    "print(\"Standard Deviation: \", freq[\"Non-Code\"].std())\n",
    "print(\"Variance of code contributions: \", freq[\"Non-Code\"].var())"
   ]
  },
  {
   "cell_type": "code",
   "execution_count": 10,
   "metadata": {},
   "outputs": [
    {
     "name": "stdout",
     "output_type": "stream",
     "text": [
      "2018 Descriptive statistics for Code contributions\n",
      "Mean:  152.41666666666666\n",
      "Median:  146.5\n",
      "Mode:  0    107\n",
      "dtype: int64\n",
      "Standard Deviation:  57.53174354346925\n",
      "Variance of code contributions:  3309.901515151515\n",
      "2018 Descriptive statistics for Non-code contributions\n",
      "Mean:  1034.5\n",
      "Median:  1002.5\n",
      "Mode:  0      540\n",
      "1      876\n",
      "2      884\n",
      "3      901\n",
      "4      907\n",
      "5      984\n",
      "6     1021\n",
      "7     1051\n",
      "8     1086\n",
      "9     1195\n",
      "10    1334\n",
      "11    1635\n",
      "dtype: int64\n",
      "Standard Deviation:  271.0415935876733\n",
      "Variance of code contributions:  73463.54545454546\n"
     ]
    }
   ],
   "source": [
    "#Stats for 2018\n",
    "freq = pandas.read_csv('2018.csv')\n",
    "print(\"2018 Descriptive statistics for Code contributions\")\n",
    "print(\"Mean: \", freq[\"Code\"].mean())\n",
    "print(\"Median: \",freq[\"Code\"].median())\n",
    "print(\"Mode: \",freq[\"Code\"].mode())\n",
    "print(\"Standard Deviation: \", freq[\"Code\"].std())\n",
    "print(\"Variance of code contributions: \", freq[\"Code\"].var())\n",
    "\n",
    "print(\"2018 Descriptive statistics for Non-code contributions\")\n",
    "print(\"Mean: \", freq[\"Non-Code\"].mean())\n",
    "print(\"Median: \",freq[\"Non-Code\"].median())\n",
    "print(\"Mode: \",freq[\"Non-Code\"].mode())\n",
    "print(\"Standard Deviation: \", freq[\"Non-Code\"].std())\n",
    "print(\"Variance of code contributions: \", freq[\"Non-Code\"].var())"
   ]
  },
  {
   "cell_type": "code",
   "execution_count": 11,
   "metadata": {},
   "outputs": [
    {
     "name": "stdout",
     "output_type": "stream",
     "text": [
      "2019 Descriptive statistics for Code contributions\n",
      "Mean:  132.08333333333334\n",
      "Median:  129.0\n",
      "Mode:  0      64\n",
      "1      67\n",
      "2      71\n",
      "3     106\n",
      "4     116\n",
      "5     125\n",
      "6     133\n",
      "7     140\n",
      "8     141\n",
      "9     150\n",
      "10    154\n",
      "11    318\n",
      "dtype: int64\n",
      "Standard Deviation:  66.81107465809615\n",
      "Variance of code contributions:  4463.719696969697\n",
      "2019 Descriptive statistics for Non-code contributions\n",
      "Mean:  925.8333333333334\n",
      "Median:  908.5\n",
      "Mode:  0    689\n",
      "dtype: int64\n",
      "Standard Deviation:  272.06744930200114\n",
      "Variance of code contributions:  74020.69696969696\n"
     ]
    }
   ],
   "source": [
    "#Stats for 2019\n",
    "freq = pandas.read_csv('2019.csv')\n",
    "print(\"2019 Descriptive statistics for Code contributions\")\n",
    "print(\"Mean: \", freq[\"Code\"].mean())\n",
    "print(\"Median: \",freq[\"Code\"].median())\n",
    "print(\"Mode: \",freq[\"Code\"].mode())\n",
    "print(\"Standard Deviation: \", freq[\"Code\"].std())\n",
    "print(\"Variance of code contributions: \", freq[\"Code\"].var())\n",
    "\n",
    "print(\"2019 Descriptive statistics for Non-code contributions\")\n",
    "print(\"Mean: \", freq[\"Non-Code\"].mean())\n",
    "print(\"Median: \",freq[\"Non-Code\"].median())\n",
    "print(\"Mode: \",freq[\"Non-Code\"].mode())\n",
    "print(\"Standard Deviation: \", freq[\"Non-Code\"].std())\n",
    "print(\"Variance of code contributions: \", freq[\"Non-Code\"].var())"
   ]
  }
 ],
 "metadata": {
  "kernelspec": {
   "display_name": "Python 3",
   "language": "python",
   "name": "python3"
  },
  "language_info": {
   "codemirror_mode": {
    "name": "ipython",
    "version": 3
   },
   "file_extension": ".py",
   "mimetype": "text/x-python",
   "name": "python",
   "nbconvert_exporter": "python",
   "pygments_lexer": "ipython3",
   "version": "3.8.3"
  }
 },
 "nbformat": 4,
 "nbformat_minor": 4
}
